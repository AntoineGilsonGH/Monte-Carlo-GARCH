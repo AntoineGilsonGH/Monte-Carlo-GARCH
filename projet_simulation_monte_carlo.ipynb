{
 "cells": [
  {
   "cell_type": "code",
   "execution_count": null,
   "metadata": {},
   "outputs": [],
   "source": [
    "#Projet simulation et Monte Carlo"
   ]
  },
  {
   "cell_type": "code",
   "execution_count": 1,
   "metadata": {},
   "outputs": [],
   "source": [
    "#Importation des packages\n",
    "import numpy as np\n",
    "import matplotlib.pyplot as plt\n",
    "import pandas as pd\n",
    "import scipy.stats as stat"
   ]
  },
  {
   "cell_type": "markdown",
   "metadata": {},
   "source": [
    "Question 1"
   ]
  },
  {
   "cell_type": "code",
   "execution_count": 2,
   "metadata": {},
   "outputs": [],
   "source": [
    "def f(a,b,c):\n",
    "    return stat.multivariate_normal.pdf(a,b,c)"
   ]
  },
  {
   "cell_type": "code",
   "execution_count": 4,
   "metadata": {},
   "outputs": [],
   "source": [
    "def metropolis_hastings(n,rho,x0,w1,w2,w3): \n",
    "    x = [np.array([x0])] # point initial\n",
    "    h = [w1]\n",
    "    for _ in range(1,n):\n",
    "        x_old = x[-1]\n",
    "        h = w1 + w3*h[-1] + w2*((r[-1])**2)\n",
    "        proposition = stat.multivariate_normal.rvs(mean=0,cov=h[-1], size=1) # proposition de déplacement\n",
    "        ratio =f(proposition[0],proposition[1],rho) / f(x_old[0],x_old[1],rho) # Acceptation ou rejet de la proposition\n",
    "        u = np.random.uniform(0,1,1)\n",
    "        if u < ratio:\n",
    "            x.append(proposition)\n",
    "        else:\n",
    "            x.append(x_old)\n",
    "\n",
    "    return np.row_stack(x)"
   ]
  },
  {
   "cell_type": "code",
   "execution_count": null,
   "metadata": {},
   "outputs": [],
   "source": [
    "metropolis_hastings(40,)"
   ]
  },
  {
   "cell_type": "code",
   "execution_count": null,
   "metadata": {},
   "outputs": [],
   "source": [
    "def metropolishastingRandomWalk(nS)\n",
    "    '''\n",
    "    variables :\n",
    "        S : vector of exchange rates\n",
    "    '''\n"
   ]
  }
 ],
 "metadata": {
  "kernelspec": {
   "display_name": "base",
   "language": "python",
   "name": "python3"
  },
  "language_info": {
   "codemirror_mode": {
    "name": "ipython",
    "version": 3
   },
   "file_extension": ".py",
   "mimetype": "text/x-python",
   "name": "python",
   "nbconvert_exporter": "python",
   "pygments_lexer": "ipython3",
   "version": "3.8.18"
  }
 },
 "nbformat": 4,
 "nbformat_minor": 2
}
