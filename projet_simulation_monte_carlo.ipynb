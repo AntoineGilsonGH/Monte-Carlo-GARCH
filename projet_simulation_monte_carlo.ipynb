{
 "cells": [
  {
   "cell_type": "code",
   "execution_count": null,
   "metadata": {},
   "outputs": [],
   "source": [
    "#Projet simulation et Monte Carlo"
   ]
  },
  {
   "cell_type": "markdown",
   "metadata": {},
   "source": [
    "BROUILLON de rémi, ne regardez pas y'a écrit un peu n'importe quoi ça va vous embrouiller plus qu'autre chose"
   ]
  },
  {
   "cell_type": "code",
   "execution_count": 1,
   "metadata": {},
   "outputs": [],
   "source": [
    "#Importation des packages\n",
    "import numpy as np\n",
    "import matplotlib.pyplot as plt\n",
    "import pandas as pd\n",
    "import scipy.stats as stat"
   ]
  },
  {
   "cell_type": "markdown",
   "metadata": {},
   "source": [
    "Je ne sais pas si les wi sont donnés où on doit justement les trouver.\n",
    "Quelle est la probabilité invariante ???\n",
    "Quelle est le proposal ???"
   ]
  },
  {
   "cell_type": "markdown",
   "metadata": {},
   "source": [
    "Question 1\n",
    "\n",
    "D'après l'article le proposal est une loi loi normale : r(t)|Ft ∼ N (0, ht ) où $$h_{t} = w_{1} + w_{3}*h_{t−1} +w_{2}*r_{t-1}^2$$    A VERIFIER JE SUIS PAS SUR"
   ]
  },
  {
   "cell_type": "markdown",
   "metadata": {},
   "source": []
  },
  {
   "cell_type": "markdown",
   "metadata": {},
   "source": [
    "D'après l'article voici le posterior qu'on target  : ????\n",
    "\n",
    "On définit sa densité f ci-dessous :"
   ]
  },
  {
   "cell_type": "code",
   "execution_count": 12,
   "metadata": {},
   "outputs": [],
   "source": [
    "\n",
    "#Aucune idée de si c'est ça\n",
    "def f(a,b,c):\n",
    "    return stat.multivariate_normal.pdf(a,b,c)"
   ]
  },
  {
   "cell_type": "code",
   "execution_count": 39,
   "metadata": {},
   "outputs": [
    {
     "data": {
      "text/plain": [
       "1.0419786756951501"
      ]
     },
     "execution_count": 39,
     "metadata": {},
     "output_type": "execute_result"
    }
   ],
   "source": [
    "stat.multivariate_normal.rvs(0,1,1)"
   ]
  },
  {
   "cell_type": "code",
   "execution_count": 111,
   "metadata": {},
   "outputs": [],
   "source": [
    "def metropolis_hastings(n,rho,x0,w1,w2,w3): \n",
    "    r = [np.array([x0])] # point initial\n",
    "    h = [w1] #est ce que c'est vraiment ça le h initial ?\n",
    "    for _ in range(1,n):\n",
    " \n",
    "        r_old = r[-1]\n",
    "        \n",
    "        h.append(w1 + w3*h[-1] + w2*((r[-1])**2)) #la variance du proposal \n",
    "        \n",
    "        proposition = stat.multivariate_normal.rvs(mean=0,cov=h[-1], size=1) # proposition de déplacement\n",
    "        \n",
    "        ratio =f(proposition,0,rho) / f(r_old,0,rho) # calcul du ratio \n",
    "        \n",
    "        u = np.random.uniform(0,1,1)\n",
    "        if u < ratio: #Acceptation ou rejet de la proposition\n",
    "            print(\"oui\")\n",
    "            r.append(proposition)\n",
    "            \n",
    "        else:\n",
    "            r.append(r_old)\n",
    "\n",
    "    return np.row_stack(r)"
   ]
  },
  {
   "cell_type": "code",
   "execution_count": 129,
   "metadata": {},
   "outputs": [
    {
     "name": "stdout",
     "output_type": "stream",
     "text": [
      "oui\n"
     ]
    },
    {
     "data": {
      "text/plain": [
       "array([[ 0.9       ],\n",
       "       [-0.82045661],\n",
       "       [-0.82045661],\n",
       "       [-0.82045661],\n",
       "       [-0.82045661],\n",
       "       [-0.82045661],\n",
       "       [-0.82045661],\n",
       "       [-0.82045661],\n",
       "       [-0.82045661],\n",
       "       [-0.82045661],\n",
       "       [-0.82045661],\n",
       "       [-0.82045661],\n",
       "       [-0.82045661],\n",
       "       [-0.82045661],\n",
       "       [-0.82045661],\n",
       "       [-0.82045661],\n",
       "       [-0.82045661],\n",
       "       [-0.82045661],\n",
       "       [-0.82045661],\n",
       "       [-0.82045661],\n",
       "       [-0.82045661],\n",
       "       [-0.82045661],\n",
       "       [-0.82045661],\n",
       "       [-0.82045661],\n",
       "       [-0.82045661],\n",
       "       [-0.82045661],\n",
       "       [-0.82045661],\n",
       "       [-0.82045661],\n",
       "       [-0.82045661],\n",
       "       [-0.82045661],\n",
       "       [-0.82045661],\n",
       "       [-0.82045661],\n",
       "       [-0.82045661],\n",
       "       [-0.82045661],\n",
       "       [-0.82045661],\n",
       "       [-0.82045661],\n",
       "       [-0.82045661],\n",
       "       [-0.82045661],\n",
       "       [-0.82045661],\n",
       "       [-0.82045661],\n",
       "       [-0.82045661],\n",
       "       [-0.82045661],\n",
       "       [-0.82045661],\n",
       "       [-0.82045661],\n",
       "       [-0.82045661],\n",
       "       [-0.82045661],\n",
       "       [-0.82045661],\n",
       "       [-0.82045661],\n",
       "       [-0.82045661],\n",
       "       [-0.82045661],\n",
       "       [-0.82045661],\n",
       "       [-0.82045661],\n",
       "       [-0.82045661],\n",
       "       [-0.82045661],\n",
       "       [-0.82045661],\n",
       "       [-0.82045661],\n",
       "       [-0.82045661],\n",
       "       [-0.82045661],\n",
       "       [-0.82045661],\n",
       "       [-0.82045661],\n",
       "       [-0.82045661],\n",
       "       [-0.82045661],\n",
       "       [-0.82045661],\n",
       "       [-0.82045661],\n",
       "       [-0.82045661],\n",
       "       [-0.82045661],\n",
       "       [-0.82045661],\n",
       "       [-0.82045661],\n",
       "       [-0.82045661],\n",
       "       [-0.82045661],\n",
       "       [-0.82045661],\n",
       "       [-0.82045661],\n",
       "       [-0.82045661],\n",
       "       [-0.82045661],\n",
       "       [-0.82045661],\n",
       "       [-0.82045661],\n",
       "       [-0.82045661],\n",
       "       [-0.82045661],\n",
       "       [-0.82045661],\n",
       "       [-0.82045661],\n",
       "       [-0.82045661],\n",
       "       [-0.82045661],\n",
       "       [-0.82045661],\n",
       "       [-0.82045661],\n",
       "       [-0.82045661],\n",
       "       [-0.82045661],\n",
       "       [-0.82045661],\n",
       "       [-0.82045661],\n",
       "       [-0.82045661],\n",
       "       [-0.82045661],\n",
       "       [-0.82045661],\n",
       "       [-0.82045661],\n",
       "       [-0.82045661],\n",
       "       [-0.82045661],\n",
       "       [-0.82045661],\n",
       "       [-0.82045661],\n",
       "       [-0.82045661],\n",
       "       [-0.82045661],\n",
       "       [-0.82045661],\n",
       "       [-0.82045661]])"
      ]
     },
     "execution_count": 129,
     "metadata": {},
     "output_type": "execute_result"
    }
   ],
   "source": [
    "metropolis_hastings(100,0.9,0.9,2,1,3)"
   ]
  },
  {
   "cell_type": "code",
   "execution_count": null,
   "metadata": {},
   "outputs": [],
   "source": []
  }
 ],
 "metadata": {
  "kernelspec": {
   "display_name": "base",
   "language": "python",
   "name": "python3"
  },
  "language_info": {
   "codemirror_mode": {
    "name": "ipython",
    "version": 3
   },
   "file_extension": ".py",
   "mimetype": "text/x-python",
   "name": "python",
   "nbconvert_exporter": "python",
   "pygments_lexer": "ipython3",
   "version": "3.8.18"
  }
 },
 "nbformat": 4,
 "nbformat_minor": 2
}
