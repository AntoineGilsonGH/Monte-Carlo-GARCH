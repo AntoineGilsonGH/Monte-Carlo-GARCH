{
 "cells": [
  {
   "cell_type": "markdown",
   "metadata": {},
   "source": [
    "# Question 1"
   ]
  },
  {
   "cell_type": "markdown",
   "metadata": {},
   "source": [
    "### Simulate GARCH(1,1) data"
   ]
  },
  {
   "cell_type": "code",
   "execution_count": null,
   "metadata": {},
   "outputs": [],
   "source": [
    "import numpy as np\n",
    "\n",
    "def simulate_garch(T, omega_1, omega_2, omega_3):\n",
    "    np.random.seed(42)  # For reproducibility\n",
    "    r = np.zeros(T)\n",
    "    h = np.zeros(T)\n",
    "    r[0] = np.random.normal(0, np.sqrt(omega_1 / (1 - omega_2 - omega_3)))\n",
    "    h[0] = omega_1 / (1 - omega_2 - omega_3)\n",
    "    \n",
    "    for t in range(1, T):\n",
    "        h[t] = omega_1 + omega_2 * r[t-1]**2 + omega_3 * h[t-1]\n",
    "        r[t] = np.random.normal(0, np.sqrt(h[t]))\n",
    "        \n",
    "    return r, h\n",
    "\n",
    "# Parameters (example values)\n",
    "omega_1 = 0.1\n",
    "omega_2 = 0.1\n",
    "omega_3 = 0.8\n",
    "\n",
    "# Simulate data\n",
    "T = 1000  # Number of time points\n",
    "r, h = simulate_garch(T, omega_1, omega_2, omega_3)\n"
   ]
  },
  {
   "cell_type": "markdown",
   "metadata": {},
   "source": [
    "### Log-Likelihood & Log-Posterior Functions"
   ]
  },
  {
   "cell_type": "markdown",
   "metadata": {},
   "source": [
    "The likelihood function for the GARCH model parameters $\\omega_1, \\omega_2, \\omega_3$ given returns $r$ is defined as:\n",
    "$$\n",
    "l(\\omega_1, \\omega_2, \\omega_3 \\mid r) \\propto \\prod_{t=1}^T h_t^{-\\frac{1}{2}} \\exp\\left(-\\frac{1}{2} \\sum_{t=1}^T \\frac{r_t^2}{h_t}\\right)\n",
    "$$\n",
    "\n",
    "The posterior distribution, incorporating independent truncated Normal priors for the parameters, is given by:\n",
    "$$\n",
    "\\pi(\\omega_1, \\omega_2, \\omega_3 \\mid r) \\propto \\exp\\left(-\\frac{1}{2} \\left(\\frac{\\omega_1^2}{\\sigma^2(\\omega_1)} + \\frac{\\omega_2^2}{\\sigma^2(\\omega_2)} + \\frac{\\omega_3^2}{\\sigma^2(\\omega_3)}\\right)\\right) \\prod_{t=1}^T h_t^{-\\frac{1}{2}} \\exp\\left(-\\frac{1}{2} \\sum_{t=1}^T \\frac{r_t^2}{h_t}\\right)\n",
    "$$\n",
    "\n",
    "This gives us both the log-likelihood expression and the log-posterior expression:\n",
    "$$\n",
    "\\log l(\\omega_1, \\omega_2, \\omega_3 \\mid r) = -\\frac{1}{2} \\sum_{t=1}^T \\left( \\log h_t + \\frac{r_t^2}{h_t}\\right)\n",
    "$$\n",
    "\n",
    "$$\n",
    "\\log \\pi(\\omega_1, \\omega_2, \\omega_3 \\mid r) = -\\frac{1}{2} \\left(\\frac{\\omega_1^2}{\\sigma^2(\\omega_1)} + \\frac{\\omega_2^2}{\\sigma^2(\\omega_2)} + \\frac{\\omega_3^2}{\\sigma^2(\\omega_3)}\\right) -\\frac{1}{2} \\sum_{t=1}^T \\left( \\log h_t + \\frac{r_t^2}{h_t}\\right)\n",
    "$$\n"
   ]
  },
  {
   "cell_type": "code",
   "execution_count": null,
   "metadata": {},
   "outputs": [],
   "source": [
    "def log_likelihood(r, omega_1, omega_2, omega_3):\n",
    "    T = len(r)\n",
    "    h = np.zeros(T)\n",
    "    h[0] = omega_1 / (1 - omega_2 - omega_3) if (omega_2 + omega_3) < 1 else 100000  # large number for stability\n",
    "    \n",
    "    log_lik = 0\n",
    "    for t in range(1, T):\n",
    "        h[t] = omega_1 + omega_2 * r[t-1]**2 + omega_3 * h[t-1]\n",
    "        log_lik -= 0.5 * (np.log(h[t]) + r[t]**2 / h[t])\n",
    "    \n",
    "    return log_lik\n",
    "\n",
    "def log_posterior(r, omega_1, omega_2, omega_3, sigma_1, sigma_2, sigma_3):\n",
    "    log_prior = -0.5 * (omega_1**2 / sigma_1**2 + omega_2**2 / sigma_2**2 + omega_3**2 / sigma_3**2)\n",
    "    return log_likelihood(r, omega_1, omega_2, omega_3) + log_prior\n"
   ]
  },
  {
   "cell_type": "markdown",
   "metadata": {},
   "source": [
    "### Implement the RWMH Sampler"
   ]
  },
  {
   "cell_type": "code",
   "execution_count": null,
   "metadata": {},
   "outputs": [],
   "source": [
    "# To be done"
   ]
  },
  {
   "cell_type": "markdown",
   "metadata": {},
   "source": [
    "# Question 2"
   ]
  },
  {
   "cell_type": "markdown",
   "metadata": {},
   "source": [
    "### Gradient Computations to find Control Variates"
   ]
  },
  {
   "cell_type": "markdown",
   "metadata": {},
   "source": [
    "The gradient of the log-posterior $\\ln \\pi$ with respect to each parameter $ \\omega_i $ involves contributions from the prior and the likelihood:\n",
    "$$\n",
    "\\frac{\\partial \\ln \\pi}{\\partial \\omega_i} = -\\frac{\\omega_i}{\\sigma^2(\\omega_i)} - \\frac{1}{2} \\sum_{t=1}^T \\left( \\frac{1}{h_t} \\frac{\\partial h_t}{\\partial \\omega_i} - \\frac{r_t^2}{h_t^2} \\frac{\\partial h_t}{\\partial \\omega_i} \\right), \\quad i = 1, 2, 3\n",
    "$$\n",
    "\n",
    "The derivatives of the volatility equation $ h_t $ with respect to the parameters are defined as:\n",
    "$$\n",
    "\\frac{\\partial h_t}{\\partial \\omega_1} = \\frac{1 - \\omega_3^{t-1}}{1 - \\omega_3} \\quad \\text{(assuming $ \\omega_3 \\neq 1 $)}\n",
    "$$\n",
    "\n",
    "$$\n",
    "\\frac{\\partial h_t}{\\partial \\omega_2} = r_{t-1}^2 + \\omega_3 \\frac{\\partial h_{t-1}}{\\partial \\omega_2} \\quad \\text{for } t > 1 \\text{, and 0 else}\n",
    "$$\n",
    "\n",
    "$$\n",
    "\\frac{\\partial h_t}{\\partial \\omega_3} = h_{t-1} + \\omega_3 \\frac{\\partial h_{t-1}}{\\partial \\omega_3} \\quad \\text{for } t > 1 \\text{, and 0 else}\n",
    "$$\n"
   ]
  },
  {
   "cell_type": "markdown",
   "metadata": {},
   "source": [
    "**Error in the article ? Should be $\\omega_3^t$:**\n",
    "\n",
    "*Objective:*\n",
    "Compute the derivative of $h_t= \\omega_1 + \\omega_2 r_{t-1}^2 + \\omega_3 h_{t-1}$ with respect to $\\omega_1$, $\\frac{\\partial h_t}{\\partial \\omega_1}$.\n",
    "\n",
    "*Initial Setup:*\n",
    "Since $\\omega_1$ is a constant addition at each time step $t$,\n",
    "$ \\frac{\\partial \\omega_1}{\\partial \\omega_1} = 1 $\n",
    "and since $r_{t-1}^2$ does not depend on $\\omega_1$,\n",
    "$ \\frac{\\partial (r_{t-1}^2)}{\\partial \\omega_1} = 0 $\n",
    "\n",
    "*Recursive Derivation:*\n",
    "Starting from the base case at $t=0$, assuming $h_0$ is either non-dependent on $\\omega_1$ or set by an initial condition (making it a constant):\n",
    "$ h_1 = \\omega_1 + \\omega_2 r_0^2 + \\omega_3 h_0 $ gives \n",
    "$ \\frac{\\partial h_1}{\\partial \\omega_1} = 1 $\n",
    "\n",
    "At $t=2$:\n",
    "$ h_2 = \\omega_1 + \\omega_2 r_1^2 + \\omega_3 h_1 $ gives\n",
    "$ \\frac{\\partial h_2}{\\partial \\omega_1} = 1 + \\omega_3 \\cdot \\frac{\\partial h_1}{\\partial \\omega_1} = 1 + \\omega_3 $\n",
    "\n",
    "Proceeding recursively,\n",
    "$ h_3 = \\omega_1 + \\omega_2 r_2^2 + \\omega_3 h_2 $ gives \n",
    "$ \\frac{\\partial h_3}{\\partial \\omega_1} = 1 + \\omega_3 \\cdot \\frac{\\partial h_2}{\\partial \\omega_1} = 1 + \\omega_3 + \\omega_3^2 $\n",
    "\n",
    "$$\\vdots$$\n",
    "\n",
    "$ \\frac{\\partial h_t}{\\partial \\omega_1} = 1 + \\omega_3 + \\omega_3^2 + \\ldots + \\omega_3^{t-1} $\n",
    "\n",
    "Summation as a geometric series for $\\omega_3 \\neq 1$ yields:\n",
    "$$ \\frac{\\partial h_t}{\\partial \\omega_1} = \\frac{1 - \\omega_3^t}{1 - \\omega_3} $$\n"
   ]
  },
  {
   "cell_type": "code",
   "execution_count": null,
   "metadata": {},
   "outputs": [],
   "source": [
    "def compute_h_t_derivatives(r, omega_1, omega_2, omega_3):\n",
    "    T = len(r)\n",
    "    h = np.zeros(T)\n",
    "    grad_h_omega1 = np.zeros(T)\n",
    "    grad_h_omega2 = np.zeros(T)\n",
    "    grad_h_omega3 = np.zeros(T)\n",
    "\n",
    "    # Initial volatility\n",
    "    h[0] = omega_1  \n",
    "\n",
    "    # Compute h and its derivatives\n",
    "    for t in range(1, T):\n",
    "        h[t] = omega_1 + omega_2 * r[t-1]**2 + omega_3 * h[t-1]\n",
    "        \n",
    "        # Derivative of h_t with respect to omega_1\n",
    "        grad_h_omega1[t] = (1 - omega_3**(t)) / (1 - omega_3) if omega_3 != 1 else t  # Using the geometric series\n",
    "\n",
    "        # Derivative of h_t with respect to omega_2\n",
    "        grad_h_omega2[t] = r[t-1]**2 + omega_3 * grad_h_omega2[t-1]\n",
    "\n",
    "        # Derivative of h_t with respect to omega_3\n",
    "        grad_h_omega3[t] = h[t-1] + omega_3 * grad_h_omega3[t-1]\n",
    "\n",
    "    return h, grad_h_omega1, grad_h_omega2, grad_h_omega3\n",
    "\n",
    "def compute_log_posterior_gradients(r, omega_1, omega_2, omega_3, sigma_1, sigma_2, sigma_3):\n",
    "    h, grad_h_omega1, grad_h_omega2, grad_h_omega3 = compute_h_t_derivatives(r, omega_1, omega_2, omega_3)\n",
    "    T = len(r)\n",
    "    gradients = np.zeros(3)\n",
    "\n",
    "    # Compute the gradient of the log-posterior for each parameter\n",
    "    gradients[0] = -omega_1 / sigma_1**2 - 0.5 * np.sum((1 / h) * grad_h_omega1 - (r**2 / h**2) * grad_h_omega1)\n",
    "    gradients[1] = -omega_2 / sigma_2**2 - 0.5 * np.sum((1 / h) * grad_h_omega2 - (r**2 / h**2) * grad_h_omega2)\n",
    "    gradients[2] = -omega_3 / sigma_3**2 - 0.5 * np.sum((1 / h) * grad_h_omega3 - (r**2 / h**2) * grad_h_omega3)\n",
    "\n",
    "    return gradients"
   ]
  },
  {
   "cell_type": "code",
   "execution_count": null,
   "metadata": {},
   "outputs": [],
   "source": [
    "\n"
   ]
  }
 ],
 "metadata": {
  "language_info": {
   "name": "python"
  }
 },
 "nbformat": 4,
 "nbformat_minor": 2
}
