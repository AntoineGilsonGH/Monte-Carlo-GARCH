{
 "cells": [
  {
   "cell_type": "code",
   "execution_count": null,
   "metadata": {},
   "outputs": [],
   "source": []
  },
  {
   "cell_type": "code",
   "execution_count": null,
   "metadata": {},
   "outputs": [],
   "source": []
  },
  {
   "cell_type": "markdown",
   "metadata": {},
   "source": [
    "Proposition from econometrics 1 :   \n",
    "If $ \\mathbb{E}[f^2]<∞$ and $\\mathbb{E}[[ || -z || ]^2]<∞$ and $\\mathbb{E}[zz^T]$ is a non singular matrix then the OLS estimator is consistent (if observations are IID).\n",
    "\n",
    "However, our samples $(z_t,f_t)$ are not iid so we cannot use this proposition to say that our estimator is consistent.   \n",
    "Our estimation of $a$ using an OLS in question 2 is biased so the theorical conditions that should ensure that the estimator of $ω$ using the function $\\widetilde{f}$ has a lower variance than the estimator of $\\omega$ using the function f are not met.  \n",
    "This explains why in question 2 we had a slighlty higher variance of the estimator of $\\omega_1$ than estimator of $\\omega_1$ using the function f. \n"
   ]
  },
  {
   "cell_type": "markdown",
   "metadata": {},
   "source": [
    "To adress the issue of not identically distributed we can burn all k first samples with k a large integer to wait for the convergence to the stationary distribution $\\pi$.   \n",
    "We burned the 1000 first samples but we could burn more."
   ]
  },
  {
   "cell_type": "markdown",
   "metadata": {},
   "source": [
    "To adress the issue of $(z_t,f_t)$ being not independent we can try to make our samples less depedent. We can do subsampling.  \n",
    "1) We sample our $ω_t$\n",
    "2) We randomly select $\\omega_t$ \n",
    "3) We run our regression only on the selected $\\omega$   "
   ]
  },
  {
   "cell_type": "markdown",
   "metadata": {},
   "source": []
  }
 ],
 "metadata": {
  "language_info": {
   "name": "python"
  }
 },
 "nbformat": 4,
 "nbformat_minor": 2
}
