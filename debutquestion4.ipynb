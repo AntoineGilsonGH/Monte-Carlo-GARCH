{
 "cells": [
  {
   "cell_type": "code",
   "execution_count": null,
   "metadata": {},
   "outputs": [],
   "source": []
  },
  {
   "cell_type": "code",
   "execution_count": null,
   "metadata": {},
   "outputs": [],
   "source": []
  },
  {
   "cell_type": "markdown",
   "metadata": {},
   "source": [
    "Proposition from econometrics 1 :   \n",
    "If $ \\mathbb{E}[f^2]<∞$ and $\\mathbb{E}[[ || -z || ]^2]<∞$ and $\\mathbb{E}[zz^T]$ is a non singular matrix then the OLS estimator is consistent (if observations are IID).\n",
    "\n",
    "However, our samples $(z_t,f_t)$ are not iid so we cannot use this proposition to say that our estimator is consistent.   \n",
    "Our estimation of $a$ using an OLS in question 2 is biased so the theorical conditions that should ensure that the estimator of $ω$ using the function f_tilde has a lower variance than the estimator of $\\omega$ using the function f are not met.  \n",
    "This explains why in question 2 we had a slighlty higher variance of the estimator of $\\omega_1$ than estimator of $\\omega_1$ using the function f. \n"
   ]
  },
  {
   "cell_type": "markdown",
   "metadata": {},
   "source": [
    "There are several ways to make MCMC simulations less dependent.\n",
    "1) Burn all k first samples with k a large integer."
   ]
  }
 ],
 "metadata": {
  "language_info": {
   "name": "python"
  }
 },
 "nbformat": 4,
 "nbformat_minor": 2
}
