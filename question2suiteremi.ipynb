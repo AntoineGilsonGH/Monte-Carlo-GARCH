{
 "cells": [
  {
   "cell_type": "code",
   "execution_count": null,
   "metadata": {},
   "outputs": [],
   "source": []
  },
  {
   "cell_type": "code",
   "execution_count": null,
   "metadata": {},
   "outputs": [],
   "source": [
    "#compute a\n",
    "\n",
    "def optimal_a(r, omega_1, omega_2, omega_3, sigma_1, sigma_2, sigma_3):\n",
    "    gradients = compute_log_posterior_gradients(r, omega_1, omega_2, omega_3, sigma_1, sigma_2, sigma_3) \n",
    "    a = [0,0,0]\n",
    "    for t in range(0,gradients[0].size + 1):\n",
    "        z = (-1/2) * gradients[][t] \n",
    "        Sigma_matrix = np.dot(z,z.t)\n",
    "        sigma_zf = np.dot(z,f)\n",
    "        a = a + (-np.dot(np.linalg.inv(Sigma_matrix),sigma_zf)) \n",
    "\n",
    "return a/gradients[0].size #la moyenne des a \n"
   ]
  }
 ],
 "metadata": {
  "language_info": {
   "name": "python"
  }
 },
 "nbformat": 4,
 "nbformat_minor": 2
}
