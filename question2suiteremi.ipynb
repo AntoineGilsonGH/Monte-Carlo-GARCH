{
 "cells": [
  {
   "cell_type": "markdown",
   "metadata": {},
   "source": []
  },
  {
   "cell_type": "code",
   "execution_count": null,
   "metadata": {},
   "outputs": [],
   "source": []
  },
  {
   "cell_type": "markdown",
   "metadata": {},
   "source": [
    "We suppose that P is a polynomial : $P(x) = \\sum_{j=1}^{3}a_jx_j $.\n",
    "Our goal is to find the vector $a = (a_1, a_2, a_3)$ that minimizes the variance of $\\widetilde{f}$.\n",
    "\n",
    " \n"
   ]
  },
  {
   "cell_type": "markdown",
   "metadata": {},
   "source": [
    "We will now show that it is possible to find the optimal a by doing a linear regression.\n",
    "\n",
    "$$V(\\widetilde{f}) = V(f+a^Tz) = \\mathbb{E}[(f+a^Tz)^2] - \\mathbb{E}[(f+a^Tz)]^2 = \\mathbb{E}[(f+a^Tz)^2] - \\mathbb{E}[f]^2 \\quad$$ \n",
    "Because $\\mathbb{E}[\\widetilde{f}] = \\mathbb{E}[f] $ by construction.\n",
    "\n",
    "$\\mathbb{E}[f]^2$ does not depend by $a$ so minimizing $V(\\widetilde{f})$ is equivalent to minimizing $\\mathbb{E}[(f+a^Tz)^2]$"
   ]
  },
  {
   "cell_type": "code",
   "execution_count": null,
   "metadata": {},
   "outputs": [],
   "source": []
  },
  {
   "cell_type": "code",
   "execution_count": null,
   "metadata": {},
   "outputs": [],
   "source": [
    "#compute a \n",
    "#surement pas la meilleure methode, je vais faire un truc mieux avec une regression apres\n",
    "\n",
    "def optimal_a(r, omega_1, omega_2, omega_3, sigma_1, sigma_2, sigma_3):\n",
    "    gradients = compute_log_posterior_gradients(r, omega_1, omega_2, omega_3, sigma_1, sigma_2, sigma_3) \n",
    "    a = [0,0,0]\n",
    "    for t in range(0,gradients[0].size + 1):\n",
    "        z = (-1/2) * gradients[][t] \n",
    "        Sigma_matrix = np.dot(z,z.t)\n",
    "        sigma_zf = np.dot(z,f)\n",
    "        a = a + (-np.dot(np.linalg.inv(Sigma_matrix),sigma_zf)) \n",
    "\n",
    "return a/gradients[0].size #la moyenne des a \n"
   ]
  }
 ],
 "metadata": {
  "language_info": {
   "name": "python"
  }
 },
 "nbformat": 4,
 "nbformat_minor": 2
}
