{
 "cells": [
  {
   "cell_type": "code",
   "execution_count": 8,
   "metadata": {},
   "outputs": [],
   "source": [
    "# Packages\n",
    "import numpy as np\n",
    "from sklearn.linear_model import LinearRegression\n",
    "import matplotlib.pyplot as plt\n",
    "import seaborn as sns\n",
    "import statistics"
   ]
  },
  {
   "cell_type": "markdown",
   "metadata": {},
   "source": [
    "# Control Variates for a GARCH Model"
   ]
  },
  {
   "cell_type": "markdown",
   "metadata": {},
   "source": [
    "## Table of contents\n",
    "\n",
    "### I - Presentation of the ZV principle of the article, in a general case\n",
    "### II - Implementation of a Random Walk Metropolis Sampler\n",
    "### III - Use of Control Variates\n",
    "### IV - Expansion to Higher Order Polynomials\n",
    "### V - Bonus: Linear Regression Validity\n",
    "### VI - Conclusion"
   ]
  },
  {
   "cell_type": "markdown",
   "metadata": {},
   "source": [
    "## I - Presentation of the ZV principle of the article, in a general case"
   ]
  },
  {
   "cell_type": "markdown",
   "metadata": {},
   "source": [
    "Existing MCMC methods are already used to estimate the expectation of a function $f(x)$ with respect to a probability density $\\pi(x)$, not necessarily normalized. This expectation is expressed by the following quantity:\n",
    "$$ \\mu_f = \\frac{\\int f(x)\\pi(x)dx}{\\int \\pi(x)dx} $$\n",
    "\n",
    "In practice, MCMCs estimate $\\mu_f$ by taking the average of the $f(x_i)$ where $x_i$ are samples from a Markov chain that has $\\pi$ as its stationary measure. This gives the following estimator:\n",
    "$$ \\hat{\\mu}_f = \\frac{1}{N}\\sum_{i=1}^{N}f(x_i) $$\n",
    "\n",
    "The innovative idea of the first proposed article is to reduce the variance of the MCMC estimator, $\\hat{\\mu}_f$, by replacing $f$ with a new function $\\tilde{f}$ that satisfies $\\hat{\\mu}_f = \\hat{\\mu}_{\\tilde{f}}$ under the measure $\\pi$, but with a smaller variance $\\mathrm{Var}(\\hat{\\mu}_f) < \\mathrm{Var}(\\hat{\\mu}_{\\tilde{f}})$.\n",
    "\n",
    "To achieve this, a control function $\\psi$ and a well-chosen operator $H$ are used, which allow us to write:\n",
    "$$ \\tilde{f}(x)=f(x)+\\frac{H\\psi(x)}{\\sqrt{\\pi(x)}} $$\n",
    "The idea is thus to choose the right $H$ and the right function $\\psi$ according to the use cases. Our project aims to adapt this method for a GARCH model.\n",
    "\n",
    "The second article demonstrates how the method presented in the first can be implemented using the ordinary least squares estimator. By using control variables as covariates and $f(x)$ as the explained variable, we can find the optimal coefficients of the control variables and, consequently, use them in $\\tilde{f}(x)$. For the case of the first-order polynomial *(to be discussed in III (Question 2))*, $\\tilde{f}(x)$ can be written: $f(x) + a^T z$ where $z$ is the vector of covariates, and $a$ are the coefficients calculated by an OLS regression of $f(x)$ on $-z$.\n",
    "\n",
    "This article also presents certain Lasso methods (LSLasso and LSLasso(X) in particular) to handle the case of higher degree polynomials. Indeed, this allows reducing the computation time by retaining only the most useful control variables and then applying OLS regressions only with these retained control variables. *We will discuss more on Lasso methods in IV (Question 3).*\n"
   ]
  },
  {
   "cell_type": "markdown",
   "metadata": {},
   "source": [
    "## II - Implementation of a Random Walk Metropolis Sampler\n",
    "\n",
    "*Follow the guidelines given in that experiment to implement a random walk Metropolis sampler that targets the posterior distribution of a GARCH model. For the data, you can use simulated data at first, and then look at the same type of real data (log-returns computed from exchange rates) in a second time.*\n"
   ]
  },
  {
   "cell_type": "markdown",
   "metadata": {},
   "source": [
    "### Presentation of the Random Walk Metropolis-Hastings Sampler"
   ]
  },
  {
   "cell_type": "markdown",
   "metadata": {},
   "source": [
    "The Metropolis-Hastings algorithm is a technique from the family of Markov Chain Monte Carlo (MCMC) methods. It facilitates the generation of a series of random samples from a probability distribution that is typically challenging to sample from directly. These samples can then be employed to approximate the distribution itself or to calculate integrals like expected values.\n",
    "\n",
    "More precisely, for a given probability distribution $\\pi$ defined over a set $\\Omega$, the Metropolis-Hastings algorithm establishes a Markov chain. This chain is characterized by having $\\pi$ as its stationary distribution, thereby enabling random sampling of elements from $\\Omega$ as per the distribution $\\pi$.\n",
    "\n",
    "A notable aspect of the Metropolis-Hastings algorithm is that it requires knowledge of the distribution $\\pi$ only up to a multiplicative constant. This is particularly advantageous as it circumvents the need to calculate the often intractable partition function of $\\pi$, making the method highly useful in statistical physics.\n",
    "\n",
    "As discussed in courses such as *Introduction to Stochastic Processes* and *Simulation and Monte Carlo Methods*, the algorithm's utility shines when calculating expectations. For instance, if we need to approximate the expectation $$\\mathbb{E}_{X \\sim \\pi}[f] = \\int_E f(x) \\pi(x) dx$$ (assuming this integral exists), traditional simulation of independent and identically distributed variables $X_i$ from distribution $\\pi$ would typically employ the law of large numbers: $$\\frac{1}{n}\\sum_{i=1}^n X_i \\xrightarrow{p.s.}\\int_E f(x) \\pi(x) dx$$\n",
    "\n",
    "However, if $\\pi$ is complex, simulating variables from $\\pi$ directly might be prohibitively costly. The Metropolis-Hastings method offers an alternative by simulating a positive, recurrent, irreducible Markov chain $(X_n)$ that converges to $\\pi$ as its limit law. **According to the ergodic theorem for Markov chains:**\n",
    "\n",
    "**Given $(X_n)$, a positive recurrent irreducible Markov chain with limit law $\\pi$, transition matrix $P$, and initial distribution $\\mu$, for all functions $f$ with $\\int |f| d\\pi < \\infty$, we have:**\n",
    "$$\\frac{1}{n}\\sum_{i=1}^n f(X_i) \\to \\int f d\\pi \\quad \\text{almost surely as } n \\to \\infty$$\n",
    "\n",
    "The Metropolis and Metropolis-Hastings algorithms simulate a Markov chain with a $\\pi$-reversible transition matrix $P$, hence having $\\pi$ as its invariant distribution. The primary verification left is to ensure the irreducibility of the chain; if it is irreducible and admits an invariant probability, it is positively recurrent.\n",
    "\n",
    "The algorithm proceeds as follows:\n",
    "\n",
    "Given a set $E = \\mathbb{Z}^d$ for $d \\geq 1$, consider the Metropolis-Hastings algorithm which involves the following components:\n",
    "\n",
    "- **State Space and Proposal Distribution**: Let $q$ be a symmetric probability measure from which we can simulate a random variable. This distribution $q$ is used to propose movements in the state space, facilitating the exploration of the distribution $\\pi$.\n",
    "\n",
    "- **Initialization**: Begin with a fixed initial state $X_0$ in $E$.\n",
    "\n",
    "For each iteration $n$:\n",
    "\n",
    "1. **Generate Proposal**: Draw a candidate step $Z_n \\sim q$, which is independent of all previously simulated variables. This step suggests a new position relative to the current state $X_n$.\n",
    "\n",
    "2. **Random Uniform Draw**: Simultaneously, draw a random number $U_n \\sim \\mathcal{U}([0,1])$, also independent of previous draws. This value is used to decide whether to accept the proposed move.\n",
    "\n",
    "3. **Acceptance Criterion**:\n",
    "   - Define the acceptance probability as:\n",
    "     $$\n",
    "     \\alpha(X_n, X_n + Z_n) = \\min\\left(1, \\frac{\\pi(X_n + Z_n)}{\\pi(X_n)}\\right)\n",
    "     $$\n",
    "   - Update the chain according to the acceptance probability:\n",
    "     $$\n",
    "     \\begin{cases}\n",
    "     X_{n+1} = X_n + Z_n & \\text{if } U_n \\leq \\alpha(X_n, X_n + Z_n) \\\\\n",
    "     X_{n+1} = X_n & \\text{otherwise}\n",
    "     \\end{cases}\n",
    "     $$\n",
    "\n",
    "3. **Repetition**: Repeat the above step for a large number of iterations to form a chain whose distribution converges to $\\pi$.\n",
    "\n",
    "Key Features:\n",
    "- **Flexibility in Proposal Distribution**: The choice of $q$ significantly impacts the efficiency of the algorithm. Ideally, $q$ should resemble $\\pi$ as closely as possible to maximize the acceptance rate.\n",
    "- **Convergence Properties**: Under broad conditions, the Markov chain generated by the Metropolis-Hastings algorithm is ergodic, meaning that it converges to the stationary distribution $\\pi$, regardless of the starting point.\n",
    "- **Multiplicative Constant**: A practical advantage of Metropolis-Hastings is its reliance only on the ratio of probabilities, which means the algorithm does not require knowledge of the normalizing constant of $\\pi$.\n"
   ]
  },
  {
   "cell_type": "markdown",
   "metadata": {},
   "source": [
    "### The context of the problem: Bayesian Estimation in a Normal-GARCH(1,1) Model"
   ]
  },
  {
   "cell_type": "markdown",
   "metadata": {},
   "source": [
    "The Normal-GARCH(1,1) model provides a statistical framework for analyzing financial time series that exhibit time-varying volatility and clustering effects. In our specific example, we utilize Bayesian methods to estimate parameters under the assumption that the returns are conditionally normally distributed with a predictable variance.\n",
    "\n",
    "**Returns Distribution**: The returns $r(t)$ given the information up to time $t-1$, denoted $F_{t-1}$, are assumed to follow a normal distribution:\n",
    "  $$\n",
    "  r(t) | F_t \\sim \\mathcal{N}(0, h_t)\n",
    "  $$\n",
    "  where $h_t$ is a predictable process:\n",
    "  $$\n",
    "  h_t = \\omega_1 + \\omega_3 h_{t-1} + \\omega_2 r_{t-1}^2\n",
    "  $$\n",
    "  with constraints $\\omega_1 > 0$, $\\omega_2 \\geq 0$, and $\\omega_3 \\geq 0$ to ensure positivity of the variance.\n",
    "\n",
    "**Truncated Normal Priors**: Given the constraints on the parameters, the prior distributions for $\\omega_1$, $\\omega_2$, and $\\omega_3$ are independent truncated normal distributions:\n",
    "  $$\n",
    "  f(x | \\mu, \\sigma, a) = \\begin{cases} \n",
    "  \\frac{1}{Z} \\phi\\left(\\frac{x-\\mu}{\\sigma}\\right) & \\text{if } x \\geq a \\\\\n",
    "  0 & \\text{if } x < a \n",
    "  \\end{cases}\n",
    "  $$\n",
    "  where $\\phi$ denotes the standard normal probability density function and $Z$ is a normalization constant.\n",
    "\n",
    "**Likelihood of the GARCH Model**: The likelihood for observing a series of returns given the parameters is expressed as the product of individual normal densities:\n",
    "  $$\n",
    "  l(\\omega_1, \\omega_2, \\omega_3 | r) \\propto \\left(\\prod_{t=1}^T h_t\\right)^{-\\frac{1}{2}} \\exp\\left(-\\frac{r_t^2}{2h_t}\\right)\n",
    "  $$\n",
    "  where $T$ is the total number of observations.\n",
    "\n",
    "**Log-Likelihood Computation**: Simplifying computations in Bayesian estimation, the log-likelihood is given by:\n",
    "  $$\n",
    "  \\log l(\\omega_1, \\omega_2, \\omega_3 \\mid r) = -\\frac{1}{2} \\sum_{t=1}^T \\left( \\log h_t + \\frac{r_t^2}{h_t}\\right)\n",
    "  $$\n",
    "\n",
    "**Combining Prior and Likelihood**: The **posterior distribution**, representing the updated beliefs about the parameters after observing the returns, is proportional to the product of the likelihood and the prior:\n",
    "  $$\n",
    "  \\pi(\\omega_1, \\omega_2, \\omega_3 | r) \\propto \\text{prior} \\times \\text{likelihood}\n",
    "  $$\n",
    "  Specifically, it incorporates both the likelihood of the observed returns under the GARCH model and the truncated normal priors:\n",
    "  $$\n",
    "  \\pi(\\omega_1, \\omega_2, \\omega_3 | r) \\propto \\exp\\left(-0.5 \\left(\\frac{\\sigma^2(\\omega_1)}{\\omega_1^2} + \\frac{\\sigma^2(\\omega_2)}{\\omega_2^2} + \\frac{\\sigma^2(\\omega_3)}{\\omega_3^2}\\right)\\right) \\left(\\prod_{t=1}^T h_t\\right)^{-\\frac{1}{2}} \\exp\\left(-\\frac{r_t^2}{2h_t}\\right)\n",
    "  $$\n",
    "\n",
    "**Simulate GARCH Process**: For a given parameter set $\\omega = (\\omega_1, \\omega_2, \\omega_3)$ and length $T$, we initialize $h_0 = \\frac{\\omega_1}{1-\\omega_2-\\omega_3}$, as seen in the literature, and $r_0 \\sim \\mathcal{N}(0, h_0)$. For each subsequent time $t$, $h_t$ and $r_t$ are updated based on the GARCH(1,1) formula, providing a series of returns and conditional variances.\n",
    "\n",
    "This Bayesian framework provides a robust method for parameter estimation in financial models, allowing for the incorporation of prior knowledge and the flexibility to handle complex stochastic behaviors in financial time series.\n"
   ]
  },
  {
   "cell_type": "markdown",
   "metadata": {},
   "source": [
    "### Implementation"
   ]
  },
  {
   "cell_type": "code",
   "execution_count": 2,
   "metadata": {},
   "outputs": [],
   "source": [
    "def simulate_garch(T, omega_1, omega_2, omega_3):\n",
    "    np.random.seed(111)  # For reproducibility\n",
    "    r = np.zeros(T)\n",
    "    h = np.zeros(T)\n",
    "    h[0] = omega_1 / (1 - omega_2 - omega_3)\n",
    "    r[0] = np.random.normal(0, np.sqrt(abs(h[0]))) # abs\n",
    "\n",
    "    \n",
    "    for t in range(1, T):\n",
    "        h[t] = omega_1 + omega_2 * r[t-1]**2 + omega_3 * h[t-1]\n",
    "        r[t] = np.random.normal(0, np.sqrt(abs(h[t]))) #abs\n",
    "        \n",
    "    return r, h\n"
   ]
  },
  {
   "cell_type": "code",
   "execution_count": 3,
   "metadata": {},
   "outputs": [],
   "source": [
    "def log_likelihood(r, omega_1, omega_2, omega_3):\n",
    "    T = len(r)\n",
    "    h = np.zeros(T)\n",
    "    h[0] = omega_1 / (1 - omega_2 - omega_3) if (omega_2 + omega_3) < 1 else 100000  # large number for stability\n",
    "    \n",
    "    log_lik = 0\n",
    "    for t in range(1, T):\n",
    "        h[t] = omega_1 + omega_2 * r[t-1]**2 + omega_3 * h[t-1]\n",
    "        log_lik -= 0.5 * (np.log(abs(h[t])) + r[t]**2 / h[t]) # abs\n",
    "    \n",
    "    return log_lik\n",
    "\n",
    "def log_posterior(r, omega_1, omega_2, omega_3, sigma_1, sigma_2, sigma_3):\n",
    "    log_prior = -0.5 * (omega_1**2 / sigma_1**2 + omega_2**2 / sigma_2**2 + omega_3**2 / sigma_3**2)\n",
    "    return log_likelihood(r, omega_1, omega_2, omega_3) + log_prior\n",
    "\n",
    "def proposal(omega_old, sigma_proposal ): # function used in the MH algorithm that will \"propose\" the new parameter (new omega here)\n",
    "    # omega_old is the list containing the old omegas, we will use a normal probability distribution to determine the new ones\n",
    "    omega = np.array([0.0,0.0,0.0])\n",
    "    omega[0] = np.random.normal(loc= omega_old[0], scale = sigma_proposal)\n",
    "    omega[1] = np.random.normal(loc= omega_old[1], scale = sigma_proposal)\n",
    "    omega[2] = np.random.normal(loc= omega_old[2], scale = sigma_proposal)\n",
    "\n",
    "    return omega\n",
    "\n",
    "def metropolis_hasting_algorithm(iterations, returns, sigma_proposal, initial_omega, sigma_omega):\n",
    "    # Let's initialize our variable\n",
    "    acceptation = np.array([False]*iterations) # we will through the iterations accept or not the change of value of omega\n",
    "    omega = initial_omega\n",
    "    omega_sampling = [omega]\n",
    "    # Let's apply the algorithm trough all the iterations\n",
    "    for t in range(iterations):\n",
    "        # We propose a candidate for omegas\n",
    "        omega_new = proposal(omega, sigma_proposal)\n",
    "        # We calculate the acceptance alpha which is ratio of the prior of the new omega over the old omega\n",
    "        alpha = log_posterior(returns,omega_new[0],omega_new[1],omega_new[2],sigma_omega[0],sigma_omega[1],sigma_omega[2]) - log_posterior(returns,omega[0],omega[1],omega[2],sigma_omega[0],sigma_omega[1],sigma_omega[2])\n",
    "        # We compare alpha with 1 and an uniform random number\n",
    "        u = np.random.uniform(0,1)\n",
    "        if alpha > 0:  # reminder that alpha is a log here so we don't compare with 1 but with 0\n",
    "            acceptation[t] = True\n",
    "            omega = omega_new\n",
    "        if alpha < 0:\n",
    "            if alpha > np.log(u): # we compare to log u and not u\n",
    "                acceptation[t]= False\n",
    "                omega = omega_new # we take the new omega\n",
    "        omega_sampling.append(omega)\n",
    "    acceptance_rate = np.sum(acceptation)/len(acceptation)*100\n",
    "    return acceptance_rate, omega_sampling"
   ]
  },
  {
   "cell_type": "markdown",
   "metadata": {},
   "source": [
    "### Evaluation Strategy for the Metropolis-Hastings Implementations\n",
    "\n",
    "To validate the efficacy and accuracy of our statistical methods and implementations using the Metropolis-Hastings algorithm within a GARCH model framework, we have designed a series of tests and verifications:\n",
    "\n",
    "#### 1. Comparison of Estimated and True Parameters\n",
    "\n",
    "- **Objective**: Assess the accuracy of the Metropolis-Hastings algorithm in estimating the parameters of the GARCH model.\n",
    "- **Method**: We will initialize our simulations with a set of known parameters (`initial_omega`) that define the GARCH model and generate synthetic return data. After applying the Metropolis-Hastings algorithm, we will compare the estimated parameters (`metropolis_omega`) with the `initial_omega`. The closer these parameters are, the more accurate our estimation method is deemed to be.\n",
    "\n",
    "#### 2. Variance Reduction through the Modified Estimator\n",
    "\n",
    "- **Objective**: Determine whether the modified estimator function $\\tilde{f}$ can effectively reduce the variance of the estimators without altering their expected values.\n",
    "- **Method**: We will compute the variance of the standard estimator and compare it with the variance of the modified estimator $\\tilde{f}$. The goal is to confirm that $\\tilde{f}$ reduces the variance while maintaining the same expected value, enhancing the efficiency of our estimations.\n",
    "\n",
    "#### 3. Testing the Unbiasedness of Estimators\n",
    "\n",
    "- **Objective**: Verify the unbiasedness of our estimators, a property that has been theoretically established in the scholarly literature.\n",
    "- **Method**: This test involves repeated sampling and estimation using our Metropolis-Hastings-based approach to calculate an empirical distribution of the estimator. We will then statistically test whether this distribution centers around the true parameter values, thus confirming unbiasedness. The absence of bias is crucial for ensuring that the estimators reliably reflect the true parameters of the model across different samples.\n"
   ]
  },
  {
   "cell_type": "markdown",
   "metadata": {},
   "source": [
    "### Simulated Data"
   ]
  },
  {
   "cell_type": "code",
   "execution_count": 4,
   "metadata": {},
   "outputs": [
    {
     "data": {
      "image/png": "[encoded data removed]",
      "text/plain": [
       "<Figure size 1000x400 with 1 Axes>"
      ]
     },
     "metadata": {},
     "output_type": "display_data"
    }
   ],
   "source": [
    "# Parameters\n",
    "initial_omega = [0.3, 0.3, 0.3]\n",
    "true_omega = [0.6, 0.7, 0.3]  # These are the true parameters we want to estimate\n",
    "sigma_omega = [9, 9, 9]  # Standard deviations for the priors \n",
    "\n",
    "# Simulate data\n",
    "returns, _ = simulate_garch(1000, *true_omega)\n",
    "\n",
    "# Metropolis-Hastings settings\n",
    "iterations = 5000\n",
    "burn_in = 500\n",
    "sigma_proposal = 0.01 \n",
    "\n",
    "# Execute the Metropolis-Hastings algorithm\n",
    "acceptance_rate, omega_samples = metropolis_hasting_algorithm(iterations, returns, sigma_proposal, initial_omega, sigma_omega)\n",
    "\n",
    "# We extract the parameter samples\n",
    "omega_samples = np.array(omega_samples)  # Convert list of samples into an array for easier slicing\n",
    "w1_samples = omega_samples[:, 0]\n",
    "w2_samples = omega_samples[:, 1]\n",
    "w3_samples = omega_samples[:, 2]\n",
    "\n",
    "# We plot the parameter trajectories\n",
    "plt.figure(figsize=(10, 4))\n",
    "plt.plot(w1_samples[burn_in:], label='ω1')\n",
    "plt.plot(w2_samples[burn_in:], label='ω2')\n",
    "plt.plot(w3_samples[burn_in:], label='ω3')\n",
    "plt.legend(fontsize=20)\n",
    "plt.xlabel('Iterations after burn-in', fontsize=20)\n",
    "plt.ylabel('Parameter values', fontsize=20)\n",
    "plt.title('Trace Plot of GARCH Parameters', fontsize=20)\n",
    "plt.grid(True)\n",
    "plt.show()"
   ]
  },
  {
   "cell_type": "markdown",
   "metadata": {},
   "source": [
    "As previously discussed, we expect that \n",
    "$$\\frac{1}{n}\\sum_{i=1}^n f(X_i) \\to \\int f \\, d\\pi \\quad \\text{almost surely as } n \\to \\infty.$$ \n",
    "In this instance, we define the identity function as $f$: $f([\\omega_1,\\omega_2,\\omega_3]) = [\\omega_1,\\omega_2,\\omega_3]$. Consequently, we will verify whether the empirical means of these three sequences approach the actual values of the parameters $\\omega_1$, $\\omega_2$, and $\\omega_3$."
   ]
  },
  {
   "cell_type": "code",
   "execution_count": 5,
   "metadata": {},
   "outputs": [
    {
     "name": "stdout",
     "output_type": "stream",
     "text": [
      "Calculated Mean Values:\n",
      "Expected ω1: 0.653192548458086\n",
      "Expected ω2: 0.6431735604052816\n",
      "Expected ω3: 0.3178397911342751\n"
     ]
    }
   ],
   "source": [
    "# Computing the average values post burn-in\n",
    "expected_w1 = np.average(w1_samples[burn_in:])\n",
    "expected_w2 = np.average(w2_samples[burn_in:])\n",
    "expected_w3 = np.average(w3_samples[burn_in:])\n",
    "\n",
    "# Display the calculated mean values\n",
    "print(\"Calculated Mean Values:\")\n",
    "print(f\"Expected ω1: {expected_w1}\")\n",
    "print(f\"Expected ω2: {expected_w2}\")\n",
    "print(f\"Expected ω3: {expected_w3}\")"
   ]
  },
  {
   "cell_type": "markdown",
   "metadata": {},
   "source": [
    "Our $\\omega_1,\\omega_2,\\omega_3$ implemented in the garch_simulation were : $[0.6, 0.7, 0.3]$, therefore we have almost the same figures which means that our algorithm works well."
   ]
  },
  {
   "cell_type": "code",
   "execution_count": 6,
   "metadata": {},
   "outputs": [
    {
     "data": {
      "image/png": "[encoded data removed]",
      "text/plain": [
       "<Figure size 1200x1800 with 3 Axes>"
      ]
     },
     "metadata": {},
     "output_type": "display_data"
    }
   ],
   "source": [
    "# Apply a seaborn style to enhance aesthetics\n",
    "sns.set_style(\"whitegrid\")\n",
    "\n",
    "fig, axs = plt.subplots(3, figsize=(12, 18))\n",
    "\n",
    "# Function to plot a histogram with matplotlib, with enhanced presentation\n",
    "def custom_hist(data, bins, color, label, ax):\n",
    "    counts, edges, _ = ax.hist(data, bins=bins, color=color, edgecolor='black', alpha=0.75)\n",
    "    ax.set_xlabel(label, fontsize=14)\n",
    "    ax.set_ylabel('Count', fontsize=14)\n",
    "    return counts, edges\n",
    "\n",
    "# Plot histograms with detailed customization\n",
    "_, edges1 = custom_hist(w1_samples[burn_in:], 30, 'steelblue', 'Histogram of ω1', axs[0])\n",
    "axs[0].set_title('Posterior Distribution of ω1', fontsize=16)\n",
    "\n",
    "_, edges2 = custom_hist(w2_samples[burn_in:], 30, 'forestgreen', 'Histogram of ω2', axs[1])\n",
    "axs[1].set_title('Posterior Distribution of ω2', fontsize=16)\n",
    "\n",
    "_, edges3 = custom_hist(w3_samples[burn_in:], 30, 'firebrick', 'Histogram of ω3', axs[2])\n",
    "axs[2].set_title('Posterior Distribution of ω3', fontsize=16)\n",
    "\n",
    "# Fine-tuning the plot layout\n",
    "plt.tight_layout()\n",
    "plt.show()"
   ]
  },
  {
   "cell_type": "markdown",
   "metadata": {},
   "source": [
    "We can see that these histograms of the posterior distribution of $\\omega_1,\\omega_2,\\omega_3$ are almost histograms from normal distribution. However, they are not perfectly centered with the empirical expected value of omega but they are indeed near of them. We could also see it with boxplot."
   ]
  },
  {
   "cell_type": "markdown",
   "metadata": {},
   "source": [
    "We are now going to develop a function that will iterate the Metropolis-Hastings algorithm. This iterative approach is designed to facilitate statistical testing and study the distributions of the omega parameters. This function will play a crucial role in evaluating the robustness and statistical properties of our parameter estimates, providing insights into the effectiveness of the Metropolis-Hastings method in capturing the dynamics of financial time series."
   ]
  },
  {
   "cell_type": "code",
   "execution_count": 7,
   "metadata": {},
   "outputs": [],
   "source": [
    "def mean_metropolis_algorithm(iterations1):\n",
    "    expected_w1_list = []\n",
    "    expected_w2_list = []\n",
    "    expected_w3_list = []\n",
    "    for i in range(iterations1):\n",
    "        results = metropolis_hasting_algorithm(iterations, returns, sigma_proposal, initial_omega, sigma_omega)\n",
    "\n",
    "        # Check if results structure is as expected\n",
    "        if not isinstance(results, tuple) or len(results) < 2:\n",
    "            raise ValueError(\"The results from the Metropolis-Hasting algorithm do not match the expected format.\")\n",
    "\n",
    "        omega_samples = results[1]  # Assuming the second item is the list of omega samples\n",
    "\n",
    "        # Prepare lists to hold the current iteration values for w1, w2, w3\n",
    "        w1_samples = []\n",
    "        w2_samples = []\n",
    "        w3_samples = []\n",
    "\n",
    "        # Extract samples depending on whether they are scalar or array-like\n",
    "        for sample in omega_samples:\n",
    "            w1_samples.append(sample[0])\n",
    "            w2_samples.append(sample[1])\n",
    "            w3_samples.append(sample[2])\n",
    "\n",
    "        # Calculate means after burn-in period\n",
    "        w1_expected = np.mean(w1_samples[burn_in:])\n",
    "        w2_expected = np.mean(w2_samples[burn_in:])\n",
    "        w3_expected = np.mean(w3_samples[burn_in:])\n",
    "        \n",
    "        expected_w1_list.append(w1_expected)\n",
    "        expected_w2_list.append(w2_expected)\n",
    "        expected_w3_list.append(w3_expected)\n",
    "        \n",
    "    return [expected_w1_list, expected_w2_list, expected_w3_list]"
   ]
  },
  {
   "cell_type": "code",
   "execution_count": 8,
   "metadata": {},
   "outputs": [],
   "source": [
    "# Parameters\n",
    "initial_omega = [0.3, 0.3, 0.3]\n",
    "true_omega = [0.6, 0.7, 0.3]  # These are the true parameters we want to estimate\n",
    "sigma_omega = [9, 9, 9]  # Standard deviations for the priors\n",
    "\n",
    "# Simulate data\n",
    "returns, _ = simulate_garch(900, *true_omega)\n",
    "\n",
    "# Metropolis-Hastings settings\n",
    "iterations = 3000 # less iterations than before\n",
    "burn_in = 300 # smaller burn_in too\n",
    "sigma_proposal = 0.01\n"
   ]
  },
  {
   "cell_type": "code",
   "execution_count": 9,
   "metadata": {},
   "outputs": [],
   "source": [
    "mean_met_alg = mean_metropolis_algorithm(5)"
   ]
  },
  {
   "cell_type": "markdown",
   "metadata": {},
   "source": [
    "As previously discussed, we are now set to evaluate whether the modified estimator function $\\tilde{f}$ can successfully reduce the variance of our estimators without altering their expected values. By utilizing the outputs from the mean Metropolis algorithm, we will be able to measure the variance of our estimators and determine the efficacy of $\\tilde{f}$ in achieving variance reduction. This analysis is crucial for enhancing the precision and reliability of our statistical estimations."
   ]
  },
  {
   "cell_type": "code",
   "execution_count": 10,
   "metadata": {},
   "outputs": [],
   "source": [
    "def variance_estimators(mean_met_alg):\n",
    "    return statistics.variance(mean_met_alg[0]), statistics.variance(mean_met_alg[1]), statistics.variance(mean_met_alg[2])"
   ]
  },
  {
   "cell_type": "markdown",
   "metadata": {},
   "source": [
    "So the variance without the method used in the article (we will see the vairance reduction in the next question) is:"
   ]
  },
  {
   "cell_type": "code",
   "execution_count": 11,
   "metadata": {},
   "outputs": [
    {
     "name": "stdout",
     "output_type": "stream",
     "text": [
      "The variance without the method used in the article is:\n",
      "Variance de ω1,w2,w3 : (0.0008699321234375044, 0.0003502666052852463, 9.285919050176603e-05)\n"
     ]
    }
   ],
   "source": [
    "print(\"The variance without the method used in the article is:\")\n",
    "print(f\"Variance de ω1,w2,w3 : {variance_estimators(mean_met_alg)}\")"
   ]
  },
  {
   "cell_type": "markdown",
   "metadata": {},
   "source": [
    "Now, let's check the unbiasedness of our estimators that has been proven in one of the article. We will see that there is still some bias but it is very small and it may be explicated by the few numbers of iterations of the metropolis_hasting_algorithm, so like it was said in the paper, there is the unbiasedness of the estimators.\n"
   ]
  },
  {
   "cell_type": "code",
   "execution_count": 12,
   "metadata": {},
   "outputs": [
    {
     "name": "stdout",
     "output_type": "stream",
     "text": [
      "The bias of the estimators are : (0.10718685176151099, -0.04499540821504722, 0.007141588701138957)\n"
     ]
    }
   ],
   "source": [
    "def bias_estimators(mean_met_alg):\n",
    "    return statistics.mean(mean_met_alg[0]) - true_omega[0], statistics.mean(mean_met_alg[1]) - true_omega[1], statistics.mean(mean_met_alg[2]) - true_omega[2]\n",
    "\n",
    "print(f\"The bias of the estimators are : {bias_estimators(mean_met_alg)}\")"
   ]
  },
  {
   "cell_type": "markdown",
   "metadata": {},
   "source": [
    "To end this part we can finally check the mean squared error of the estimators:"
   ]
  },
  {
   "cell_type": "code",
   "execution_count": 13,
   "metadata": {},
   "outputs": [
    {
     "name": "stdout",
     "output_type": "stream",
     "text": [
      "{1: 0.012184966889294126, 2: 0.002304800044666934, 3: 0.00012528964157764843}\n"
     ]
    }
   ],
   "source": [
    "mse = {}\n",
    "\n",
    "# We calculate the MSE for each parameter\n",
    "for i in range(1,4):\n",
    "    mse[i] = statistics.mean([(omega - true_omega[i-1])**2 for omega in mean_met_alg[i-1]])\n",
    "\n",
    "print(mse)"
   ]
  },
  {
   "cell_type": "markdown",
   "metadata": {},
   "source": [
    "### Real Data"
   ]
  },
  {
   "cell_type": "markdown",
   "metadata": {},
   "source": [
    "We are transitioning from theoretical simulations to practical applications by testing our methods on real data. We focus on computing log-returns from exchange rates, specifically between the Euro and the GBP.\n",
    "\n",
    "For this purpose, we retrieve data from the ECB (European Central Bank) database using the \"DEXUSEU\" series code, which represents the daily exchange rate between the US dollar and the Euro. This code allows us to directly query the relevant data for our analysis.\n"
   ]
  },
  {
   "cell_type": "code",
   "execution_count": 14,
   "metadata": {},
   "outputs": [],
   "source": [
    "from lxml import etree\n",
    "import requests\n",
    "import pandas as pd\n",
    "\n",
    "def fetch_ecb_data(series_id, start_date, end_date):\n",
    "    # Define the URL template for accessing ECB data\n",
    "    url = f\"https://sdw-wsrest.ecb.europa.eu/service/data/EXR/D.{series_id}.EUR.SP00.A\"\n",
    "\n",
    "    # Set up headers to specify the desired response format as 'generic' XML\n",
    "    headers = {\n",
    "        'Accept': 'text/xml'\n",
    "    }\n",
    "    params = {\n",
    "        'startPeriod': start_date,\n",
    "        'endPeriod': end_date\n",
    "    }\n",
    "    response = requests.get(url, headers=headers, params=params)\n",
    "\n",
    "    # We parse the XML response\n",
    "    root = etree.fromstring(response.content)\n",
    "    ns = {'ns': 'http://www.sdmx.org/resources/sdmxml/schemas/v2_1/message',\n",
    "          'common': 'http://www.sdmx.org/resources/sdmxml/schemas/v2_1/common',\n",
    "          'generic': 'http://www.sdmx.org/resources/sdmxml/schemas/v2_1/data/generic'}\n",
    "\n",
    "    # Then we extract data points\n",
    "    data = []\n",
    "    for series in root.xpath('.//generic:Series', namespaces=ns):\n",
    "        for obs in series.xpath('.//generic:Obs', namespaces=ns):\n",
    "            time = obs.find('.//generic:ObsDimension', namespaces=ns).get('value')\n",
    "            value = obs.find('.//generic:ObsValue', namespaces=ns).get('value')\n",
    "            data.append({'Date': time, 'Rate': value})\n",
    "\n",
    "    # Convert list of dictionaries into a DataFrame\n",
    "    df = pd.DataFrame(data)\n",
    "    df['Date'] = pd.to_datetime(df['Date'])\n",
    "    df['rate'] = pd.to_numeric(df['Rate'], errors='coerce')\n",
    "    return df"
   ]
  },
  {
   "cell_type": "code",
   "execution_count": 15,
   "metadata": {},
   "outputs": [
    {
     "data": {
      "text/html": [
       "<div>\n",
       "<style scoped>\n",
       "    .dataframe tbody tr th:only-of-type {\n",
       "        vertical-align: middle;\n",
       "    }\n",
       "\n",
       "    .dataframe tbody tr th {\n",
       "        vertical-align: top;\n",
       "    }\n",
       "\n",
       "    .dataframe thead th {\n",
       "        text-align: right;\n",
       "    }\n",
       "</style>\n",
       "<table border=\"1\" class=\"dataframe\">\n",
       "  <thead>\n",
       "    <tr style=\"text-align: right;\">\n",
       "      <th></th>\n",
       "      <th>Date</th>\n",
       "      <th>Rate</th>\n",
       "      <th>rate</th>\n",
       "    </tr>\n",
       "  </thead>\n",
       "  <tbody>\n",
       "    <tr>\n",
       "      <th>0</th>\n",
       "      <td>2019-01-02</td>\n",
       "      <td>0.90165</td>\n",
       "      <td>0.90165</td>\n",
       "    </tr>\n",
       "    <tr>\n",
       "      <th>1</th>\n",
       "      <td>2019-01-03</td>\n",
       "      <td>0.90312</td>\n",
       "      <td>0.90312</td>\n",
       "    </tr>\n",
       "    <tr>\n",
       "      <th>2</th>\n",
       "      <td>2019-01-04</td>\n",
       "      <td>0.89988</td>\n",
       "      <td>0.89988</td>\n",
       "    </tr>\n",
       "    <tr>\n",
       "      <th>3</th>\n",
       "      <td>2019-01-07</td>\n",
       "      <td>0.8972</td>\n",
       "      <td>0.89720</td>\n",
       "    </tr>\n",
       "    <tr>\n",
       "      <th>4</th>\n",
       "      <td>2019-01-08</td>\n",
       "      <td>0.89743</td>\n",
       "      <td>0.89743</td>\n",
       "    </tr>\n",
       "  </tbody>\n",
       "</table>\n",
       "</div>"
      ],
      "text/plain": [
       "        Date     Rate     rate\n",
       "0 2019-01-02  0.90165  0.90165\n",
       "1 2019-01-03  0.90312  0.90312\n",
       "2 2019-01-04  0.89988  0.89988\n",
       "3 2019-01-07   0.8972  0.89720\n",
       "4 2019-01-08  0.89743  0.89743"
      ]
     },
     "execution_count": 15,
     "metadata": {},
     "output_type": "execute_result"
    }
   ],
   "source": [
    "# We will use EUR to GBP exchanges rates on the year 2019 to 2022:\n",
    "df = fetch_ecb_data('GBP', '2019-01-01', '2022-12-31')\n",
    "df.head()"
   ]
  },
  {
   "cell_type": "code",
   "execution_count": 16,
   "metadata": {},
   "outputs": [
    {
     "data": {
      "text/plain": [
       "array([ 0.16303444, -0.35875631, -0.29781749, ..., -0.31132193,\n",
       "        0.55758704,  0.16262183])"
      ]
     },
     "execution_count": 16,
     "metadata": {},
     "output_type": "execute_result"
    }
   ],
   "source": [
    "df[\"rate\"] = (df[\"rate\"] - df[\"rate\"].shift(1)) / df[\"rate\"].shift(1)\n",
    "df = df.dropna()\n",
    "df = df.replace([np.inf, -np.inf], np.nan).dropna(subset=['rate'])\n",
    "df['rate'] = df['rate'].interpolate() # for the missing values\n",
    "rates = df[\"rate\"].to_numpy()*100\n",
    "rates"
   ]
  },
  {
   "cell_type": "markdown",
   "metadata": {},
   "source": [
    "Following the methodology established in the first part of our study using simulated data, we now extend our analysis to real-world data. \n",
    "Before doing this, we fit a GARCH model to the exchange rate data retrieved in our previous step. This allows us to observe the model's behavior and effectiveness in capturing the financial time series' volatility characteristics under real market conditions."
   ]
  },
  {
   "cell_type": "code",
   "execution_count": 17,
   "metadata": {},
   "outputs": [
    {
     "name": "stdout",
     "output_type": "stream",
     "text": [
      "Iteration:      1,   Func. Count:      6,   Neg. LLF: 468895.5390594251\n",
      "Iteration:      2,   Func. Count:     15,   Neg. LLF: 1630995142.1371253\n",
      "Iteration:      3,   Func. Count:     23,   Neg. LLF: 662.8133416047322\n",
      "Iteration:      4,   Func. Count:     30,   Neg. LLF: 664.4964495261827\n",
      "Iteration:      5,   Func. Count:     36,   Neg. LLF: 613.0055477032379\n",
      "Iteration:      6,   Func. Count:     41,   Neg. LLF: 613.003737194661\n",
      "Iteration:      7,   Func. Count:     46,   Neg. LLF: 613.0008022334438\n",
      "Iteration:      8,   Func. Count:     51,   Neg. LLF: 613.0007752881918\n",
      "Iteration:      9,   Func. Count:     56,   Neg. LLF: 613.0007707085082\n",
      "Iteration:     10,   Func. Count:     60,   Neg. LLF: 613.0007707085272\n",
      "Optimization terminated successfully    (Exit mode 0)\n",
      "            Current function value: 613.0007707085082\n",
      "            Iterations: 10\n",
      "            Function evaluations: 60\n",
      "            Gradient evaluations: 10\n",
      "                     Constant Mean - GARCH Model Results                      \n",
      "==============================================================================\n",
      "Dep. Variable:                      y   R-squared:                       0.000\n",
      "Mean Model:             Constant Mean   Adj. R-squared:                  0.000\n",
      "Vol Model:                      GARCH   Log-Likelihood:               -613.001\n",
      "Distribution:                  Normal   AIC:                           1234.00\n",
      "Method:            Maximum Likelihood   BIC:                           1253.74\n",
      "                                        No. Observations:                 1026\n",
      "Date:                Mon, Apr 29 2024   Df Residuals:                     1025\n",
      "Time:                        19:09:36   Df Model:                            1\n",
      "                                  Mean Model                                  \n",
      "==============================================================================\n",
      "                  coef    std err          t      P>|t|       95.0% Conf. Int.\n",
      "------------------------------------------------------------------------------\n",
      "mu         -9.1462e-03  1.498e-02     -0.611      0.541 [-3.850e-02,2.021e-02]\n",
      "                               Volatility Model                              \n",
      "=============================================================================\n",
      "                 coef    std err          t      P>|t|       95.0% Conf. Int.\n",
      "-----------------------------------------------------------------------------\n",
      "omega          0.0368  2.320e-02      1.585      0.113 [-8.711e-03,8.224e-02]\n",
      "alpha[1]       0.1308  5.161e-02      2.534  1.129e-02    [2.961e-02,  0.232]\n",
      "beta[1]        0.6921      0.150      4.620  3.836e-06      [  0.399,  0.986]\n",
      "=============================================================================\n",
      "\n",
      "Covariance estimator: robust\n"
     ]
    }
   ],
   "source": [
    "import arch\n",
    "real_garch = arch.arch_model(rates, vol = 'GARCH', p=1, q=1) # GARCH(1,1)\n",
    "real_garch = real_garch.fit()\n",
    "print(real_garch.summary())"
   ]
  },
  {
   "cell_type": "code",
   "execution_count": 18,
   "metadata": {},
   "outputs": [
    {
     "data": {
      "image/png": "[encoded data removed]",
      "text/plain": [
       "<Figure size 1000x400 with 1 Axes>"
      ]
     },
     "metadata": {},
     "output_type": "display_data"
    }
   ],
   "source": [
    "# Now we use our metropolis_hasting_algorithm with our real data, we use the same parameters as for the simulated data : ( the same thing as for simulated data)\n",
    "\n",
    "# Parameters\n",
    "initial_omega = [0.3, 0.3, 0.3]\n",
    "true_omega = [0.0368,0.6921,0.1308] # These are the true parameters we want to estimate\n",
    "sigma_omega = [9, 9, 9]  # Standard deviations for the priors\n",
    "\n",
    "# Simulate data\n",
    "returns = rates\n",
    "\n",
    "# Metropolis-Hastings settings\n",
    "iterations = 7000\n",
    "burn_in = 500\n",
    "sigma_proposal = 0.01\n",
    "\n",
    "# Execute the Metropolis-Hastings algorithm\n",
    "acceptance_rate, omega_samples = metropolis_hasting_algorithm(iterations, returns, sigma_proposal, initial_omega, sigma_omega)\n",
    "\n",
    "# We extract the parameter samples\n",
    "omega_samples = np.array(omega_samples)  # Convert list of samples into an array for easier slicing\n",
    "w1_samples = omega_samples[:, 0]\n",
    "w2_samples = omega_samples[:, 1]\n",
    "w3_samples = omega_samples[:, 2]\n",
    "\n",
    "# We plot the parameter trajectories\n",
    "plt.figure(figsize=(10, 4))\n",
    "plt.plot(w1_samples[burn_in:], label='ω1')\n",
    "plt.plot(w2_samples[burn_in:], label='ω2')\n",
    "plt.plot(w3_samples[burn_in:], label='ω3')\n",
    "plt.legend(fontsize=20)\n",
    "plt.xlabel('Iterations after burn-in', fontsize=20)\n",
    "plt.ylabel('Parameter values', fontsize=20)\n",
    "plt.title('Trace Plot of GARCH Parameters', fontsize=20)\n",
    "plt.grid(True)\n",
    "plt.show()\n"
   ]
  },
  {
   "cell_type": "code",
   "execution_count": 19,
   "metadata": {},
   "outputs": [],
   "source": [
    "mean_met_alg2 = mean_metropolis_algorithm(5)"
   ]
  },
  {
   "cell_type": "code",
   "execution_count": 20,
   "metadata": {},
   "outputs": [
    {
     "name": "stdout",
     "output_type": "stream",
     "text": [
      "Variance de ω1,w2,w3 : (0.0007459593971068197, 0.0010028572745971488, 0.005601768095494535)\n",
      "The bias of the estimators are : (-0.012311746399977175, -0.5571273940970953, 0.5348650937079967)\n",
      "{1: 0.0007483466171028066, 2: 0.3111932190730978, 3: 0.2905620829436598}\n"
     ]
    }
   ],
   "source": [
    "# Let's reuse the function we have implemented for the simulated datas :\n",
    "\n",
    "# Variance\n",
    "print(f\"Variance de ω1,w2,w3 : {variance_estimators(mean_met_alg2)}\")\n",
    "# Bias\n",
    "print(f\"The bias of the estimators are : {bias_estimators(mean_met_alg2)}\")\n",
    "# MSE\n",
    "mse = {}\n",
    "for i in range(1,4):\n",
    "    mse[i] = statistics.mean([(omega - true_omega[i-1])**2 for omega in mean_met_alg2[i-1]])\n",
    "print(mse)\n"
   ]
  },
  {
   "cell_type": "markdown",
   "metadata": {},
   "source": [
    "We have very small variance, bias and mse as in with simulated datas !"
   ]
  },
  {
   "cell_type": "code",
   "execution_count": 21,
   "metadata": {},
   "outputs": [
    {
     "name": "stdout",
     "output_type": "stream",
     "text": [
      "The mean value of the estimators are : (0.024488253600022825, 0.13497260590290475, 0.6656650937079968)\n"
     ]
    }
   ],
   "source": [
    "# We can also check directly the mean of the estimators rather than the bias :\n",
    "\n",
    "def mean_estimators(mean_met_alg2):\n",
    "    return statistics.mean(mean_met_alg2[0]), statistics.mean(mean_met_alg2[1]), statistics.mean(mean_met_alg2[2])\n",
    "\n",
    "print(f\"The mean value of the estimators are : {mean_estimators(mean_met_alg2)}\") # Recall : true_omega_1 = 0. , true_omega_2 = 0.4, true_omega_3 = 0.9"
   ]
  },
  {
   "cell_type": "markdown",
   "metadata": {},
   "source": [
    "We can see that we have some very few difference between the expected empirical means and the true values. With real datas of EUR to GBP on 2019-2022, it works less than with our simulated datas."
   ]
  },
  {
   "cell_type": "markdown",
   "metadata": {},
   "source": [
    "## III - Use of Control Variates\n",
    "\n",
    "*Consider the control variates proposed in the paper (Equation (8), and in particular the versions based on a first-order polynomial, i.e., $f(x) + a^T z$). Explain how you can use these control variates in this setting by doing a linear regression.*\n"
   ]
  },
  {
   "cell_type": "markdown",
   "metadata": {},
   "source": [
    "The primary objective explored in this segment of the research paper is to minimize the variance of the estimators for the parameters $\\omega_1$, $\\omega_2$, and $\\omega_3$. This is achieved by employing specific functions $H$ and $\\psi$, which are used to construct the re-normalized function:\n",
    "\n",
    "$$\\tilde{f}(x) = f(x) + \\frac{H\\psi(x)}{\\sqrt{\\pi(x)}}$$\n",
    "\n",
    "where $\\pi$ denotes the posterior distribution function.\n",
    "\n",
    "### Methodology\n",
    "\n",
    "#### Hamiltonian and Trial Function\n",
    "The Schrödinger-type Hamiltonian $H$, used in this context, is defined as:\n",
    "\n",
    "\\begin{equation}\n",
    "    Hf = -2\\Delta f + V(x)f\n",
    "\\end{equation}\n",
    "\n",
    "The trial function $\\psi(x)$ is set as $\\psi(x) = P(x) * \\pi(x)$, where $P$ is a polynomial. Given this setup, the re-normalized function $\\tilde{f}(x)$ simplifies to:\n",
    "\n",
    "$$\\tilde{f}(x) = f(x) - \\frac{1}{2} \\Delta P(x) + \\nabla P(x) \\cdot z$$\n",
    "\n",
    "Here, $z = -\\frac{1}{2} \\nabla \\ln \\pi(x)$ acts as the control variates, $\\nabla$ is the gradient operator, and $\\Delta = \\sum_{i=1}^d\\frac{\\partial^2 }{\\partial x_i^2}$ represents the Laplacian.\n",
    "\n",
    "#### Application in a First Order Polynomial Case\n",
    "For a first order polynomial $P(x) = \\sum_{i=1}^3 a_i x_i$, the Laplacian $\\Delta P(x)$ equals zero, simplifying our formula to:\n",
    "\n",
    "$$\\tilde{f}(x) = f(x) + a^T z$$\n",
    "\n",
    "where $z$ is the vector of the three covariates.\n",
    "\n",
    "### Estimation Strategy\n",
    "\n",
    "#### Linear Regression for Variance Reduction\n",
    "Our aim is to find a coefficient vector $a$ that minimizes the variance of $\\tilde{f}(x)$. This is done through an ordinary least squares (OLS) regression of $f(x)$ on $-z$, which helps empirically determine:\n",
    "\n",
    "$$\\alpha = \\arg\\min_a \\left(\\sum_{i=1}^n (f(X_i) + a^T z_i)^2\\right)$$\n",
    "\n",
    "This effectively approximates the empirical expected value of $\\tilde{f}(x)$, constructed to maintain the same expected value as $f(x)$, $\\mu_f = \\mu_{\\tilde{f}}$.\n",
    "\n",
    "#### Variance Analysis\n",
    "\n",
    "$$V(\\widetilde{f}) = V(f+a^Tz) = \\mathbb{E}[(f+a^Tz)^2] - \\mathbb{E}[(f+a^Tz)]^2 = \\mathbb{E}[(f+a^Tz)^2] - \\mathbb{E}[f]^2 \\quad$$ \n",
    "The last equality comes from the fact that by construction $\\mathbb{E}[\\widetilde{f}] = \\mathbb{E}[f] $.\n",
    "\n",
    "We showed that $\\mathbb{E}[f]^2$ does not depend by $a$. \n",
    "So minimizing $V(\\widetilde{f})$ is equivalent to minimizing $\\mathbb{E}[(f+a^Tz)^2] = \\mathbb{E}[(f- a^T(-z))^2] $.  \n",
    "We recognize the minimization problem of a linear regression of $f$ on $-z$ so we know that $a = \\mathbb{E}[zz^T]^{-1}\\mathbb{E}[zf]$ as the article says.\n",
    "\n",
    "If $ \\mathbb{E}[f^2]<∞$ and $\\mathbb{E}[[ || -z || ]^2]<∞$ and $\\mathbb{E}[zz^T]$ is a non singular matrix then the OLS estimator is consistent (if observations are IID). So we will estimate $a$ by $â$ the OLS estimator, given by:\n",
    "$$â = (\\sum_{t=1}^{T}z_tz_t^T)^{-1}(\\sum_{t=1}^{T}-z_tf_t)$$\n",
    "\n"
   ]
  },
  {
   "cell_type": "markdown",
   "metadata": {},
   "source": [
    "# Implementation\n",
    "\n",
    "### Computation of the control variates\n",
    "\n",
    "First of all, we need to compute the three control variates, defined by $z=-\\frac{1}{2} \\nabla \\ln \\pi$."
   ]
  },
  {
   "cell_type": "markdown",
   "metadata": {},
   "source": [
    "The gradient of the log-posterior $\\ln \\pi$ with respect to each parameter $ \\omega_i $ involves contributions from the prior and the likelihood:\n",
    "$$\n",
    "\\frac{\\partial \\ln \\pi}{\\partial \\omega_i} = -\\frac{\\omega_i}{\\sigma^2(\\omega_i)} - \\frac{1}{2} \\sum_{t=1}^T \\left( \\frac{1}{h_t} \\frac{\\partial h_t}{\\partial \\omega_i} - \\frac{r_t^2}{h_t^2} \\frac{\\partial h_t}{\\partial \\omega_i} \\right), \\quad i = 1, 2, 3\n",
    "$$\n",
    "\n",
    "The derivatives of the volatility equation $ h_t $ with respect to the parameters are defined as:\n",
    "$$\n",
    "\\frac{\\partial h_t}{\\partial \\omega_1} = \\frac{1 - \\omega_3^{t-1}}{1 - \\omega_3} \\quad \\text{(assuming $ \\omega_3 \\neq 1 $)}\n",
    "$$\n",
    "\n",
    "$$\n",
    "\\frac{\\partial h_t}{\\partial \\omega_2} = r_{t-1}^2 + \\omega_3 \\frac{\\partial h_{t-1}}{\\partial \\omega_2} \\quad \\text{for } t > 1 \\text{, and 0 else}\n",
    "$$\n",
    "\n",
    "$$\n",
    "\\frac{\\partial h_t}{\\partial \\omega_3} = h_{t-1} + \\omega_3 \\frac{\\partial h_{t-1}}{\\partial \\omega_3} \\quad \\text{for } t > 1 \\text{, and 0 else}\n",
    "$$\n"
   ]
  },
  {
   "cell_type": "markdown",
   "metadata": {},
   "source": [
    "-------"
   ]
  },
  {
   "cell_type": "markdown",
   "metadata": {},
   "source": [
    "**Error in the article ? Should be $\\omega_3^t$ ?**\n",
    "\n",
    "*Objective:*\n",
    "Compute the derivative of $h_t= \\omega_1 + \\omega_2 r_{t-1}^2 + \\omega_3 h_{t-1}$ with respect to $\\omega_1$, $\\frac{\\partial h_t}{\\partial \\omega_1}$.\n",
    "\n",
    "*Initial Setup:*\n",
    "Since $\\omega_1$ is a constant addition at each time step $t$,\n",
    "$ \\frac{\\partial \\omega_1}{\\partial \\omega_1} = 1 $\n",
    "and since $r_{t-1}^2$ does not depend on $\\omega_1$,\n",
    "$ \\frac{\\partial (r_{t-1}^2)}{\\partial \\omega_1} = 0 $\n",
    "\n",
    "*Recursive Derivation:*\n",
    "Starting from the base case at $t=0$, assuming $h_0$ is either non-dependent on $\\omega_1$ or set by an initial condition (making it a constant):\n",
    "$ h_1 = \\omega_1 + \\omega_2 r_0^2 + \\omega_3 h_0 $ gives \n",
    "$ \\frac{\\partial h_1}{\\partial \\omega_1} = 1 $\n",
    "\n",
    "At $t=2$:\n",
    "$ h_2 = \\omega_1 + \\omega_2 r_1^2 + \\omega_3 h_1 $ gives\n",
    "$ \\frac{\\partial h_2}{\\partial \\omega_1} = 1 + \\omega_3 \\cdot \\frac{\\partial h_1}{\\partial \\omega_1} = 1 + \\omega_3 $\n",
    "\n",
    "Proceeding recursively,\n",
    "$ h_3 = \\omega_1 + \\omega_2 r_2^2 + \\omega_3 h_2 $ gives \n",
    "$ \\frac{\\partial h_3}{\\partial \\omega_1} = 1 + \\omega_3 \\cdot \\frac{\\partial h_2}{\\partial \\omega_1} = 1 + \\omega_3 + \\omega_3^2 $\n",
    "\n",
    "$$\\vdots$$\n",
    "\n",
    "$ \\frac{\\partial h_t}{\\partial \\omega_1} = 1 + \\omega_3 + \\omega_3^2 + \\ldots + \\omega_3^{t-1} $\n",
    "\n",
    "Summation as a geometric series for $\\omega_3 \\neq 1$ yields:\n",
    "$$ \\frac{\\partial h_t}{\\partial \\omega_1} = \\frac{1 - \\omega_3^t}{1 - \\omega_3} $$\n"
   ]
  },
  {
   "cell_type": "markdown",
   "metadata": {},
   "source": [
    "------"
   ]
  },
  {
   "cell_type": "code",
   "execution_count": 22,
   "metadata": {},
   "outputs": [],
   "source": [
    "def compute_h_t_derivatives(r, omega_1, omega_2, omega_3):\n",
    "    T = len(r)\n",
    "    h = np.zeros(T)\n",
    "    grad_h_omega1 = np.zeros(T)\n",
    "    grad_h_omega2 = np.zeros(T)\n",
    "    grad_h_omega3 = np.zeros(T)\n",
    "\n",
    "    # Initial volatility\n",
    "    h[0] = omega_1  \n",
    "\n",
    "    # Compute h and its derivatives\n",
    "    for t in range(1, T):\n",
    "        h[t] = omega_1 + omega_2 * r[t-1]**2 + omega_3 * h[t-1]\n",
    "        \n",
    "        # Derivative of h_t with respect to omega_1\n",
    "        grad_h_omega1[t] = (1 - omega_3**(t)) / (1 - omega_3) if omega_3 != 1 else t  # Using the geometric series\n",
    "\n",
    "        # Derivative of h_t with respect to omega_2\n",
    "        grad_h_omega2[t] = r[t-1]**2 + omega_3 * grad_h_omega2[t-1]\n",
    "\n",
    "        # Derivative of h_t with respect to omega_3\n",
    "        grad_h_omega3[t] = h[t-1] + omega_3 * grad_h_omega3[t-1]\n",
    "\n",
    "    return h, grad_h_omega1, grad_h_omega2, grad_h_omega3\n",
    "\n",
    "def compute_log_posterior_gradients(r, omega_1, omega_2, omega_3, sigma_1, sigma_2, sigma_3):\n",
    "    h, grad_h_omega1, grad_h_omega2, grad_h_omega3 = compute_h_t_derivatives(r, omega_1, omega_2, omega_3)\n",
    "    T = len(r)\n",
    "    gradients = np.zeros(3)\n",
    "\n",
    "    # Compute the gradient of the log-posterior for each parameter\n",
    "    gradients[0] = -omega_1 / sigma_1**2 - 0.5 * np.sum((1 / h) * grad_h_omega1 - (r**2 / h**2) * grad_h_omega1)\n",
    "    gradients[1] = -omega_2 / sigma_2**2 - 0.5 * np.sum((1 / h) * grad_h_omega2 - (r**2 / h**2) * grad_h_omega2)\n",
    "    gradients[2] = -omega_3 / sigma_3**2 - 0.5 * np.sum((1 / h) * grad_h_omega3 - (r**2 / h**2) * grad_h_omega3)\n",
    "\n",
    "    return gradients\n",
    "\n",
    "def compute_log_posterior_gradients_concatenator(r, sigma_1, sigma_2, sigma_3,w1_samples,w2_samples,w3_samples):\n",
    "    '''\n",
    "    This function computes the log posterior gradients at every points\n",
    "    '''\n",
    "    gradient_concat=[]\n",
    "    i = 0\n",
    "    for _ in r:\n",
    "        gradient_concat.append(compute_log_posterior_gradients(r, w1_samples[i],w2_samples[i],w3_samples[i], sigma_1, sigma_2, sigma_3))\n",
    "        i = i +1 \n",
    "    return np.array(gradient_concat)\n",
    "\n",
    "\n",
    "def optimal_a(f,z):\n",
    "    '''\n",
    "    Calculates the OLS estimator of the vector a\n",
    "\n",
    "    Args : \n",
    "        f (ndarray): Vector containing values of the original function f.\n",
    "        z (ndarray): z = (-1/2) * log_post_gradient\n",
    "        \n",
    "    Return : OLS estimator of the vector a\n",
    "    '''\n",
    "    model = LinearRegression()\n",
    "    z = z[burn_in:,:] #burn early samples\n",
    "    f = f[burn_in:,:] #burn early samples\n",
    "    model.fit(-z,f) #performs the linear regression of f on -z without early samples\n",
    "    a = model.coef_\n",
    "    return a\n",
    "\n",
    "def alternative_f(f,log_post_gradient):\n",
    "    '''\n",
    "    Calculates the value of the alternative function `f_tilde`\n",
    "    based on the observed values of the original function `f` and log-posterior \n",
    "    gradient.\n",
    "\n",
    "    Args:\n",
    "        f (ndarray): Vector containing observed values of the original function f.\n",
    "        log_post_gradient (ndarray): The log-posterior gradient.\n",
    "\n",
    "    Return:\n",
    "        (ndarray): Vector of values of f_tilde \n",
    "    '''\n",
    "    z = (-1/2) * log_post_gradient\n",
    "    a = optimal_a(f,z)\n",
    "    z = z.T\n",
    "    return f.T + np.dot(a.T,z)\n"
   ]
  },
  {
   "cell_type": "code",
   "execution_count": 23,
   "metadata": {},
   "outputs": [],
   "source": [
    "#NOUVELLE CELLULE PAS EXACTEMENT CELLE QUE T'AVAIS (je l'ai laissée pour que tu puisses cc tes commentaires,elle est en dessous)\n",
    "# Parameters\n",
    "initial_omega = [0.3, 0.3, 0.3]\n",
    "true_omega = [0.6, 0.7, 0.4]  # These are the true parameters we want to estimate\n",
    "sigma_omega = [9, 9, 9]  # Standard deviations for the priors\n",
    "\n",
    "# Simulate data\n",
    "returns, _ = simulate_garch(2000, *true_omega)\n",
    "\n",
    "# Metropolis-Hastings settings\n",
    "iterations = 5000\n",
    "burn_in = 1000\n",
    "sigma_proposal = 0.01\n",
    "\n",
    "# Execute the Metropolis-Hastings algorithm\n",
    "acceptance_rate, omega_samples = metropolis_hasting_algorithm(iterations, returns, sigma_proposal, initial_omega, sigma_omega)\n",
    "\n",
    "# We extract the parameter samples\n",
    "omega_samples = np.array(omega_samples)  # Convert list of samples into an array for easier slicing\n",
    "w1_samples = omega_samples[:, 0]\n",
    "w2_samples = omega_samples[:, 1]\n",
    "w3_samples = omega_samples[:, 2]\n",
    "\n",
    "# Parameters (example values)\n",
    "omega_1, omega_2, omega_3 =0.1, 0.1, 0.8\n",
    "sigma_1, sigma_2, sigma_3 = 9, 9, 9\n",
    "# Simulate data\n",
    "T = iterations + 1 # Number of time points\n",
    "r, h = simulate_garch(T, true_omega[0], true_omega[1], true_omega[2])\n",
    "\n",
    "#put in the good shape\n",
    "w_samples=np.column_stack((w1_samples,w2_samples,w3_samples))\n",
    "log_post_gradient = compute_log_posterior_gradients_concatenator(r, sigma_1, sigma_2, sigma_3,w1_samples,w2_samples,w3_samples)\n",
    "log_post_gradient = np.column_stack((log_post_gradient[:,0],log_post_gradient[:,1],log_post_gradient[:,2]))"
   ]
  },
  {
   "cell_type": "code",
   "execution_count": 24,
   "metadata": {},
   "outputs": [],
   "source": [
    "# Parameters\n",
    "initial_omega = [0.3, 0.3, 0.3]\n",
    "true_omega = [0.6, 0.7, 0.4]  # These are the true parameters we want to estimate\n",
    "sigma_omega = [9, 9, 9]  # Standard deviations for the priors\n",
    "T = 5000 + 1\n",
    "\n",
    "# Simulate data\n",
    "r, h = simulate_garch(T, true_omega[0], true_omega[1], true_omega[2])\n",
    "\n",
    "# Metropolis-Hastings \n",
    "iterations = 5000\n",
    "burn_in = 500\n",
    "sigma_proposal = 0.01\n",
    "acceptance_rate, omega_samples = metropolis_hasting_algorithm(iterations, r, sigma_proposal, initial_omega, sigma_omega)\n",
    "\n",
    "# We extract the parameter samples\n",
    "omega_samples = np.array(omega_samples)  # Convert list of samples into an array for easier slicing\n",
    "w1_samples = omega_samples[:, 0]\n",
    "w2_samples = omega_samples[:, 1]\n",
    "w3_samples = omega_samples[:, 2]\n",
    "w_samples=np.column_stack((w1_samples,w2_samples,w3_samples))\n",
    "\n",
    "# We calculate the control variates (we handle the factor -1/2 in the alternative_f function)\n",
    "log_post_gradient = compute_log_posterior_gradients_concatenator(r, sigma_omega[0], sigma_omega[1], sigma_omega[2],w1_samples,w2_samples,w3_samples)\n",
    "log_post_gradient = np.column_stack((log_post_gradient[:,0],log_post_gradient[:,1],log_post_gradient[:,2]))\n",
    "\n",
    "# We store our data in arrays after burn in \n",
    "w_samples_after_burn_in = np.array(w_samples[burn_in:])\n",
    "log_post_gradient_after_burn_in = np.array(log_post_gradient[burn_in:])"
   ]
  },
  {
   "cell_type": "code",
   "execution_count": 25,
   "metadata": {},
   "outputs": [],
   "source": [
    "# We are now doing to develop a function that will iterate the metropolis_hasting_algorithm in order to make statistical test and study on the distributions of the omega\n",
    "\n",
    "def mean_metropolis_algorithm_q2(iterations1):\n",
    "    expected_w1_list = []\n",
    "    expected_w2_list = []\n",
    "    expected_w3_list = []\n",
    "    for i in range(iterations1):\n",
    "        results = metropolis_hasting_algorithm(iterations, returns, sigma_proposal, initial_omega, sigma_omega)\n",
    "\n",
    "        # Check if results structure is as expected\n",
    "        if not isinstance(results, tuple) or len(results) < 2:\n",
    "            raise ValueError(\"The results from the Metropolis-Hasting algorithm do not match the expected format.\")\n",
    "\n",
    "        omega_samples = results[1]  # Assuming the second item is the list of omega samples\n",
    "\n",
    "        # Prepare lists to hold the current iteration values for w1, w2, w3\n",
    "        w1_samples = []\n",
    "        w2_samples = []\n",
    "        w3_samples = []\n",
    "\n",
    "        # Extract samples depending on whether they are scalar or array-like\n",
    "        for sample in omega_samples:\n",
    "            if np.isscalar(sample):  # Handling cases where the sample might be a single scalar value\n",
    "                w1_samples.append(sample)  # Assuming scalar results pertain to w1 or need clarification on which omega they relate to\n",
    "            else:  # Otherwise, handle as arrays\n",
    "                w1_samples.append(sample[0])\n",
    "                w2_samples.append(sample[1])\n",
    "                w3_samples.append(sample[2])\n",
    "\n",
    "        # Calculate means after burn-in period\n",
    "        w_samples = np.column_stack((w1_samples,w2_samples,w3_samples))\n",
    "        w_expected = np.mean(alternative_f(w_samples[burn_in:],log_post_gradient[burn_in:]).T,axis=0)\n",
    "        expected_w_mean = []\n",
    "        expected_w_mean.append(w_expected)\n",
    "        expected_w1_list.append(np.mean(alternative_f(w_samples[burn_in:],log_post_gradient[burn_in:])[0]))\n",
    "        expected_w2_list.append(np.mean(alternative_f(w_samples[burn_in:],log_post_gradient[burn_in:])[1]))\n",
    "        expected_w3_list.append(np.mean(alternative_f(w_samples[burn_in:],log_post_gradient[burn_in:])[2]))\n",
    "    \n",
    "    #return [expected_w1_list, expected_w2_list, expected_w3_list]\n",
    "    return expected_w_mean, [expected_w1_list, expected_w2_list, expected_w3_list]"
   ]
  },
  {
   "cell_type": "code",
   "execution_count": 26,
   "metadata": {},
   "outputs": [
    {
     "ename": "KeyboardInterrupt",
     "evalue": "",
     "output_type": "error",
     "traceback": [
      "\u001b[0;31m---------------------------------------------------------------------------\u001b[0m",
      "\u001b[0;31mKeyboardInterrupt\u001b[0m                         Traceback (most recent call last)",
      "Cell \u001b[0;32mIn[26], line 1\u001b[0m\n\u001b[0;32m----> 1\u001b[0m mean_met_alg2_q2 \u001b[38;5;241m=\u001b[39m \u001b[43mmean_metropolis_algorithm_q2\u001b[49m\u001b[43m(\u001b[49m\u001b[38;5;241;43m5\u001b[39;49m\u001b[43m)\u001b[49m[\u001b[38;5;241m1\u001b[39m]\n",
      "Cell \u001b[0;32mIn[25], line 8\u001b[0m, in \u001b[0;36mmean_metropolis_algorithm_q2\u001b[0;34m(iterations1)\u001b[0m\n\u001b[1;32m      6\u001b[0m expected_w3_list \u001b[38;5;241m=\u001b[39m []\n\u001b[1;32m      7\u001b[0m \u001b[38;5;28;01mfor\u001b[39;00m i \u001b[38;5;129;01min\u001b[39;00m \u001b[38;5;28mrange\u001b[39m(iterations1):\n\u001b[0;32m----> 8\u001b[0m     results \u001b[38;5;241m=\u001b[39m \u001b[43mmetropolis_hasting_algorithm\u001b[49m\u001b[43m(\u001b[49m\u001b[43miterations\u001b[49m\u001b[43m,\u001b[49m\u001b[43m \u001b[49m\u001b[43mreturns\u001b[49m\u001b[43m,\u001b[49m\u001b[43m \u001b[49m\u001b[43msigma_proposal\u001b[49m\u001b[43m,\u001b[49m\u001b[43m \u001b[49m\u001b[43minitial_omega\u001b[49m\u001b[43m,\u001b[49m\u001b[43m \u001b[49m\u001b[43msigma_omega\u001b[49m\u001b[43m)\u001b[49m\n\u001b[1;32m     10\u001b[0m     \u001b[38;5;66;03m# Check if results structure is as expected\u001b[39;00m\n\u001b[1;32m     11\u001b[0m     \u001b[38;5;28;01mif\u001b[39;00m \u001b[38;5;129;01mnot\u001b[39;00m \u001b[38;5;28misinstance\u001b[39m(results, \u001b[38;5;28mtuple\u001b[39m) \u001b[38;5;129;01mor\u001b[39;00m \u001b[38;5;28mlen\u001b[39m(results) \u001b[38;5;241m<\u001b[39m \u001b[38;5;241m2\u001b[39m:\n",
      "Cell \u001b[0;32mIn[3], line 36\u001b[0m, in \u001b[0;36mmetropolis_hasting_algorithm\u001b[0;34m(iterations, returns, sigma_proposal, initial_omega, sigma_omega)\u001b[0m\n\u001b[1;32m     34\u001b[0m omega_new \u001b[38;5;241m=\u001b[39m proposal(omega, sigma_proposal)\n\u001b[1;32m     35\u001b[0m \u001b[38;5;66;03m# We calculate the acceptance alpha which is ratio of the prior of the new omega over the old omega\u001b[39;00m\n\u001b[0;32m---> 36\u001b[0m alpha \u001b[38;5;241m=\u001b[39m log_posterior(returns,omega_new[\u001b[38;5;241m0\u001b[39m],omega_new[\u001b[38;5;241m1\u001b[39m],omega_new[\u001b[38;5;241m2\u001b[39m],sigma_omega[\u001b[38;5;241m0\u001b[39m],sigma_omega[\u001b[38;5;241m1\u001b[39m],sigma_omega[\u001b[38;5;241m2\u001b[39m]) \u001b[38;5;241m-\u001b[39m \u001b[43mlog_posterior\u001b[49m\u001b[43m(\u001b[49m\u001b[43mreturns\u001b[49m\u001b[43m,\u001b[49m\u001b[43momega\u001b[49m\u001b[43m[\u001b[49m\u001b[38;5;241;43m0\u001b[39;49m\u001b[43m]\u001b[49m\u001b[43m,\u001b[49m\u001b[43momega\u001b[49m\u001b[43m[\u001b[49m\u001b[38;5;241;43m1\u001b[39;49m\u001b[43m]\u001b[49m\u001b[43m,\u001b[49m\u001b[43momega\u001b[49m\u001b[43m[\u001b[49m\u001b[38;5;241;43m2\u001b[39;49m\u001b[43m]\u001b[49m\u001b[43m,\u001b[49m\u001b[43msigma_omega\u001b[49m\u001b[43m[\u001b[49m\u001b[38;5;241;43m0\u001b[39;49m\u001b[43m]\u001b[49m\u001b[43m,\u001b[49m\u001b[43msigma_omega\u001b[49m\u001b[43m[\u001b[49m\u001b[38;5;241;43m1\u001b[39;49m\u001b[43m]\u001b[49m\u001b[43m,\u001b[49m\u001b[43msigma_omega\u001b[49m\u001b[43m[\u001b[49m\u001b[38;5;241;43m2\u001b[39;49m\u001b[43m]\u001b[49m\u001b[43m)\u001b[49m\n\u001b[1;32m     37\u001b[0m \u001b[38;5;66;03m# We compare alpha with 1 and an uniform random number\u001b[39;00m\n\u001b[1;32m     38\u001b[0m u \u001b[38;5;241m=\u001b[39m np\u001b[38;5;241m.\u001b[39mrandom\u001b[38;5;241m.\u001b[39muniform(\u001b[38;5;241m0\u001b[39m,\u001b[38;5;241m1\u001b[39m)\n",
      "Cell \u001b[0;32mIn[3], line 15\u001b[0m, in \u001b[0;36mlog_posterior\u001b[0;34m(r, omega_1, omega_2, omega_3, sigma_1, sigma_2, sigma_3)\u001b[0m\n\u001b[1;32m     13\u001b[0m \u001b[38;5;28;01mdef\u001b[39;00m \u001b[38;5;21mlog_posterior\u001b[39m(r, omega_1, omega_2, omega_3, sigma_1, sigma_2, sigma_3):\n\u001b[1;32m     14\u001b[0m     log_prior \u001b[38;5;241m=\u001b[39m \u001b[38;5;241m-\u001b[39m\u001b[38;5;241m0.5\u001b[39m \u001b[38;5;241m*\u001b[39m (omega_1\u001b[38;5;241m*\u001b[39m\u001b[38;5;241m*\u001b[39m\u001b[38;5;241m2\u001b[39m \u001b[38;5;241m/\u001b[39m sigma_1\u001b[38;5;241m*\u001b[39m\u001b[38;5;241m*\u001b[39m\u001b[38;5;241m2\u001b[39m \u001b[38;5;241m+\u001b[39m omega_2\u001b[38;5;241m*\u001b[39m\u001b[38;5;241m*\u001b[39m\u001b[38;5;241m2\u001b[39m \u001b[38;5;241m/\u001b[39m sigma_2\u001b[38;5;241m*\u001b[39m\u001b[38;5;241m*\u001b[39m\u001b[38;5;241m2\u001b[39m \u001b[38;5;241m+\u001b[39m omega_3\u001b[38;5;241m*\u001b[39m\u001b[38;5;241m*\u001b[39m\u001b[38;5;241m2\u001b[39m \u001b[38;5;241m/\u001b[39m sigma_3\u001b[38;5;241m*\u001b[39m\u001b[38;5;241m*\u001b[39m\u001b[38;5;241m2\u001b[39m)\n\u001b[0;32m---> 15\u001b[0m     \u001b[38;5;28;01mreturn\u001b[39;00m \u001b[43mlog_likelihood\u001b[49m\u001b[43m(\u001b[49m\u001b[43mr\u001b[49m\u001b[43m,\u001b[49m\u001b[43m \u001b[49m\u001b[43momega_1\u001b[49m\u001b[43m,\u001b[49m\u001b[43m \u001b[49m\u001b[43momega_2\u001b[49m\u001b[43m,\u001b[49m\u001b[43m \u001b[49m\u001b[43momega_3\u001b[49m\u001b[43m)\u001b[49m \u001b[38;5;241m+\u001b[39m log_prior\n",
      "Cell \u001b[0;32mIn[3], line 9\u001b[0m, in \u001b[0;36mlog_likelihood\u001b[0;34m(r, omega_1, omega_2, omega_3)\u001b[0m\n\u001b[1;32m      7\u001b[0m \u001b[38;5;28;01mfor\u001b[39;00m t \u001b[38;5;129;01min\u001b[39;00m \u001b[38;5;28mrange\u001b[39m(\u001b[38;5;241m1\u001b[39m, T):\n\u001b[1;32m      8\u001b[0m     h[t] \u001b[38;5;241m=\u001b[39m omega_1 \u001b[38;5;241m+\u001b[39m omega_2 \u001b[38;5;241m*\u001b[39m r[t\u001b[38;5;241m-\u001b[39m\u001b[38;5;241m1\u001b[39m]\u001b[38;5;241m*\u001b[39m\u001b[38;5;241m*\u001b[39m\u001b[38;5;241m2\u001b[39m \u001b[38;5;241m+\u001b[39m omega_3 \u001b[38;5;241m*\u001b[39m h[t\u001b[38;5;241m-\u001b[39m\u001b[38;5;241m1\u001b[39m]\n\u001b[0;32m----> 9\u001b[0m     log_lik \u001b[38;5;241m-\u001b[39m\u001b[38;5;241m=\u001b[39m \u001b[38;5;241m0.5\u001b[39m \u001b[38;5;241m*\u001b[39m (np\u001b[38;5;241m.\u001b[39mlog(\u001b[38;5;28;43mabs\u001b[39;49m\u001b[43m(\u001b[49m\u001b[43mh\u001b[49m\u001b[43m[\u001b[49m\u001b[43mt\u001b[49m\u001b[43m]\u001b[49m\u001b[43m)\u001b[49m) \u001b[38;5;241m+\u001b[39m r[t]\u001b[38;5;241m*\u001b[39m\u001b[38;5;241m*\u001b[39m\u001b[38;5;241m2\u001b[39m \u001b[38;5;241m/\u001b[39m h[t]) \u001b[38;5;66;03m# abs\u001b[39;00m\n\u001b[1;32m     11\u001b[0m \u001b[38;5;28;01mreturn\u001b[39;00m log_lik\n",
      "\u001b[0;31mKeyboardInterrupt\u001b[0m: "
     ]
    }
   ],
   "source": [
    "mean_met_alg2_q2 = mean_metropolis_algorithm_q2(5)[1]"
   ]
  },
  {
   "cell_type": "markdown",
   "metadata": {},
   "source": [
    "Now we will test this method.\n",
    "As previously discussed, we expect that \n",
    "$$\\frac{1}{n}\\sum_{i=1}^n \\widetilde{f}(X_i)  = \\frac{1}{n}\\sum_{i=1}^n (f(X_i) + a^Tz(X_i)) \\to \\int \\widetilde{f}  \\, d\\pi \\quad \\text{almost surely as } n \\to \\infty.$$ \n",
    "$f$ is the same as in question 1: $f([\\omega_1,\\omega_2,\\omega_3]) = [\\omega_1,\\omega_2,\\omega_3]$. Consequently, we will verify whether the empirical means of these three sequences approach the actual values of the parameters $\\omega_1$, $\\omega_2$, and $\\omega_3$ and if the variance is lower."
   ]
  },
  {
   "cell_type": "code",
   "execution_count": null,
   "metadata": {},
   "outputs": [],
   "source": [
    "# Let's reuse the function we have implemented for the simulated datas :\n",
    "\n",
    "# Variance\n",
    "print(f\"Variance de ω1,w2,w3 with f_tilde : {variance_estimators(mean_met_alg2_q2)}\")\n",
    "print(f\"Variance de ω1,w2,w3 with f : {variance_estimators(mean_met_alg2)}\")\n",
    "print(f\"Ratio des variances des w  pour f sur f_tilde : {variance_estimators(mean_met_alg2)[0]/variance_estimators(mean_met_alg2_q2)[0]}, {variance_estimators(mean_met_alg2)[1]/variance_estimators(mean_met_alg2_q2)[1]},{variance_estimators(mean_met_alg2)[2]/variance_estimators(mean_met_alg2_q2)[2]}\") # grand ratio = bon fonctionnement\n",
    "\n",
    "# Bias\n",
    "print(f\"The bias of the estimators are with f_tilde : {bias_estimators(mean_met_alg2_q2)}\")\n",
    "print(f\"The bias of the estimators are with f: {bias_estimators(mean_met_alg2)}\")\n",
    "# MSE\n",
    "mse = {}\n",
    "for i in range(1,4):\n",
    "    mse[i] = statistics.mean([(omega - true_omega[i-1])**2 for omega in mean_met_alg2_q2[i-1]])\n",
    "print(mse)"
   ]
  },
  {
   "cell_type": "markdown",
   "metadata": {},
   "source": [
    "We see that our estimation of $ω = (\\omega_1,\\omega_2,\\omega_3)$ using the function $\\widetilde{f}$ is close to the real $\\omega$ and the variance is lower for $\\omega_2$ and $\\omega_3$. However, the variance of $\\omega_1$ is higher with the estimator using f_tilde. We will try to explain why and how to adress this issue in question 4."
   ]
  },
  {
   "cell_type": "code",
   "execution_count": null,
   "metadata": {},
   "outputs": [],
   "source": [
    "#je pense qu'il faut aussi supprimer cette cellule\n",
    "\n",
    "print(\"Expected value of w1 =\", np.mean(w_samples_after_burn_in[0]))\n",
    "print(\"Expected value of w1_tilde =\", np.mean(w_alternative_after_burn_in[0]))\n",
    "print(\"Variance of w1 =\", np.var(w_samples_after_burn_in[0]))\n",
    "print(\"Variance of w1_tilde =\", np.var(w_alternative_after_burn_in[0])) \n",
    "print(\"\\n\")\n",
    "print(\"Expected value of w2 =\", np.mean(w_samples_after_burn_in[1]))\n",
    "print(\"Expected value of w2_tilde =\", np.mean(w_alternative_after_burn_in[1]))\n",
    "print(\"Variance of w2 =\", np.var(w_samples_after_burn_in[1]))\n",
    "print(\"Variance of w2_tilde =\", np.var(w_alternative_after_burn_in[1])) \n",
    "print(\"\\n\")\n",
    "print(\"Expected value of w3 =\", np.mean(w_samples_after_burn_in[2]))\n",
    "print(\"Expected value of w3_tilde =\", np.mean(w_alternative_after_burn_in[2]))\n",
    "print(\"Variance of w3 =\", np.var(w_samples_after_burn_in[2]))\n",
    "print(\"Variance of w3_tilde =\", np.var(w_alternative_after_burn_in[2])) \n",
    "print(\"\\n\")"
   ]
  },
  {
   "cell_type": "markdown",
   "metadata": {},
   "source": [
    "On code deux petites fonctions pour comparer les résultats des deux méthodes MCMC et ZV MCMC."
   ]
  },
  {
   "cell_type": "code",
   "execution_count": null,
   "metadata": {},
   "outputs": [],
   "source": [
    "def plot_comparision(w,w_alternative, name): \n",
    "    # We plot the different trajectories \n",
    "    plt.figure(figsize=(10,4))\n",
    "    plt.plot(w)\n",
    "    plt.plot(w_alternative)\n",
    "    plt.legend(['MCMC','ZV MCMC'], fontsize=20)\n",
    "    plt.xlabel('Itérations après burns in', fontsize=20)\n",
    "    plt.title('Comparison of the trajectory of ' + name + ' between MCMC and ZV MCMC', fontsize=20)\n",
    "    plt.ylabel('omega', fontsize=20)"
   ]
  },
  {
   "cell_type": "code",
   "execution_count": null,
   "metadata": {},
   "outputs": [],
   "source": [
    "plot_comparision(w_alternative_after_burn_in[0], w_samples_after_burn_in[0][burn_in:],'w1')\n",
    "plot_comparision(w_alternative_after_burn_in[1], w_samples_after_burn_in[1][burn_in:], 'w2')\n",
    "plot_comparision(w_alternative_after_burn_in[2],w_samples_after_burn_in[2][burn_in:], 'w3')"
   ]
  },
  {
   "cell_type": "code",
   "execution_count": null,
   "metadata": {},
   "outputs": [],
   "source": [
    "def boxplot_comparision(w, w_alternative, name):\n",
    "    sns.set_style('darkgrid')\n",
    "    fig, ax = plt.subplots()\n",
    "    ax.boxplot([w, w_alternative])\n",
    "    ax.set_xticklabels(['MCMC', 'ZC-MCMC'])\n",
    "    ax.set_title('Comparison of the boxplot for ' + name + ' between MCMC and ZV MCMC')\n",
    "    plt.show()"
   ]
  },
  {
   "cell_type": "code",
   "execution_count": null,
   "metadata": {},
   "outputs": [],
   "source": [
    "boxplot_comparision(w_alternative_after_burn_in[0], w_samples_after_burn_in[0][burn_in:],'w1')\n",
    "boxplot_comparision(w_alternative_after_burn_in[1], w_samples_after_burn_in[1][burn_in:], 'w2')\n",
    "boxplot_comparision(w_alternative_after_burn_in[2],w_samples_after_burn_in[2][burn_in:], 'w3')"
   ]
  },
  {
   "cell_type": "markdown",
   "metadata": {},
   "source": [
    "We are now going to develop a function that will iterate the metropolis_hasting_algorithm in order to make statistical test and study on the distributions of the omega.\n"
   ]
  },
  {
   "cell_type": "code",
   "execution_count": null,
   "metadata": {},
   "outputs": [],
   "source": [
    "def mean_metropolis_algorithm_q2(iterations1):\n",
    "    expected_w1_list = []\n",
    "    expected_w2_list = []\n",
    "    expected_w3_list = []\n",
    "    for i in range(iterations1):\n",
    "        results = metropolis_hasting_algorithm(iterations, returns, sigma_proposal, initial_omega, sigma_omega)\n",
    "\n",
    "        # Check if results structure is as expected\n",
    "        if not isinstance(results, tuple) or len(results) < 2:\n",
    "            raise ValueError(\"The results from the Metropolis-Hasting algorithm do not match the expected format.\")\n",
    "\n",
    "        omega_samples = results[1]  # Assuming the second item is the list of omega samples\n",
    "\n",
    "        # Prepare lists to hold the current iteration values for w1, w2, w3\n",
    "        w1_samples = []\n",
    "        w2_samples = []\n",
    "        w3_samples = []\n",
    "\n",
    "        # Extract samples depending on whether they are scalar or array-like\n",
    "        for sample in omega_samples:\n",
    "            if np.isscalar(sample):  # Handling cases where the sample might be a single scalar value\n",
    "                w1_samples.append(sample)  # Assuming scalar results pertain to w1 or need clarification on which omega they relate to\n",
    "            else:  # Otherwise, handle as arrays\n",
    "                w1_samples.append(sample[0])\n",
    "                w2_samples.append(sample[1])\n",
    "                w3_samples.append(sample[2])\n",
    "\n",
    "        # Calculate means after burn-in period\n",
    "        w_samples = np.column_stack((w1_samples,w2_samples,w3_samples))\n",
    "        w_expected = np.mean(alternative_f(w_samples[burn_in:],log_post_gradient[burn_in:]).T,axis=0)\n",
    "        expected_w_mean = []\n",
    "        expected_w_mean.append(w_expected)\n",
    "        expected_w1_list.append(np.mean(alternative_f(w_samples[burn_in:],log_post_gradient[burn_in:])[0]))\n",
    "        expected_w2_list.append(np.mean(alternative_f(w_samples[burn_in:],log_post_gradient[burn_in:])[1]))\n",
    "        expected_w3_list.append(np.mean(alternative_f(w_samples[burn_in:],log_post_gradient[burn_in:])[2]))\n",
    "    \n",
    "    #return [expected_w1_list, expected_w2_list, expected_w3_list]\n",
    "    return expected_w_mean, [expected_w1_list, expected_w2_list, expected_w3_list]"
   ]
  },
  {
   "cell_type": "code",
   "execution_count": null,
   "metadata": {},
   "outputs": [],
   "source": [
    "mean_met_alg2_q2 = mean_metropolis_algorithm_q2(5)[1]\n",
    "\n",
    "# Variance\n",
    "print(f\"Variance de ω1,w2,w3 with f_tilde : {variance_estimators(mean_met_alg2_q2)}\")\n",
    "print(f\"Variance de ω1,w2,w3 with f : {variance_estimators(mean_met_alg2)}\")\n",
    "print(f\"Ratio des variances des w  pour f sur f_tilde : {variance_estimators(mean_met_alg2)[0]/variance_estimators(mean_met_alg2_q2)[0]}, {variance_estimators(mean_met_alg2)[1]/variance_estimators(mean_met_alg2_q2)[1]},{variance_estimators(mean_met_alg2)[2]/variance_estimators(mean_met_alg2_q2)[2]}\") # grand ratio = bon fonctionnement\n",
    "\n",
    "# Bias\n",
    "print(f\"The bias of the estimators are with f_tilde : {bias_estimators(mean_met_alg2_q2)}\")\n",
    "print(f\"The bias of the estimators are with f: {bias_estimators(mean_met_alg2)}\")\n",
    "# MSE\n",
    "mse = {}\n",
    "for i in range(1,4):\n",
    "    mse[i] = statistics.mean([(omega - true_omega[i-1])**2 for omega in mean_met_alg2_q2[i-1]])\n",
    "print(mse)"
   ]
  },
  {
   "cell_type": "markdown",
   "metadata": {},
   "source": [
    "## IV - Expansion to Higher Order Polynomials\n",
    "\n",
    "*Consider a larger set of control variates (by using a polynomial of order 2 for instance). When the number of control variates become too large, the linear regression approach of Step 2 may become too expensive (explain why). Adapt the method proposed in this paper: [https://doi.org/10.1007/s11222-021-10011-z](https://doi.org/10.1007/s11222-021-10011-z), which relies on the Lasso, to your problem, and compare with the naive approach (where you use only a single step based on a linear regression).*\n"
   ]
  },
  {
   "cell_type": "markdown",
   "metadata": {},
   "source": [
    "### Handling Computational Complexity in Control Variates with Linear Regression\n",
    "\n",
    "#### Computational Challenges with Increasing Control Variates\n",
    "\n",
    "The number of control variates increases significantly with the degree of the polynomial used in modeling. For example, in a 3-dimensional space, a polynomial of degree $p$ results in $\\binom{d+p}{d}-1$ control variates. Specifically:\n",
    "\n",
    "- First-order polynomial: 3 control variates ($z_1, z_2, z_3$).\n",
    "- Second-order polynomial: 9 control variates ($z_1, z_2, z_3, z_1*z_2, z_3*z_3, z_1*z_3, z_1^2, z_2^2, z_3^2$).\n",
    "- Third-order polynomial: 19 control variates.\n",
    "\n",
    "The increase in control variates leads to a surge in computational complexity, primarily because the Ordinary Least Squares (OLS) regression's time complexity is influenced by the number of control variates ($m$) and samples ($n$), detailed as $O(nm^2 + m^3)$.\n",
    "\n",
    "#### Simplifying the OLS Model with LASSO\n",
    "\n",
    "To manage the rising computational cost with higher polynomial degrees, the use of LASSO (Least Absolute Shrinkage and Selection Operator) regression is recommended. LASSO assists in both variable selection and regularization, reducing the number of control variates effectively by imposing a penalty proportional to the absolute value of the coefficients:\n",
    "\n",
    "$$\\displaystyle \\min_{\\beta \\in \\mathbb{R}^p} \\left(\\frac{1}{N} |y - X\\beta|_2^2 + \\lambda |\\beta|_1\\right)$$\n",
    "\n",
    "where $\\lambda$ is a regularization parameter determining the penalty's strength.\n",
    "\n",
    "#### Implementing LASSO for Second-Order Polynomial Control Variates\n",
    "\n",
    "##### Step-by-Step Approach:\n",
    "\n",
    "1. **Gradient Computation**: Compute the control variates for a second-order polynomial, which includes both linear terms and interaction terms ($z_1, z_2, z_3, z_1*z_2, z_1*z_3, z_2*z_3, z_1^2, z_2^2, z_3^2$).\n",
    "\n",
    "2. **Optimizing $\\lambda$ with LASSO Cross Validation**: Employ LASSO CV to determine the optimal $\\lambda$ while regressing the function $f(w_i)$ on the vector of control variates $[z_i]$ as in Question 2 (but we have 9 control variates instead of 3 so 9 parameters to estimate for each $w_i$).\n",
    "\n",
    "3. **Subsampling with LASSO Regression**: Conduct LASSO regression to determine which control variates have a significant effect on the response variable, effectively reducing the number of variables used in the final model.\n",
    "\n",
    "4. **Finalizing with OLS Regression**: With the reduced set of control variates post-LASSO, perform OLS regression to estimate the optimal coefficients.\n",
    "\n",
    "5. **Evaluation**: Compare the empirical mean and variance of the adjusted function $\\tilde{f}(w_i)$ with $f(w_i)$ to verify if the variance has been reduced while maintaining the expected value.\n",
    "\n",
    "##### Polynomial Representation in LASSO:\n",
    "\n",
    "For quadratic polynomials represented as $P(x) = a^T x + \\frac{1}{2} x^T B x$, the re-normalized function becomes:\n",
    "\n",
    "$$\\tilde{f}(x) = f(x) - \\frac{1}{2} \\operatorname{tr}(B) + (a + Bx)^T z$$\n",
    "\n",
    "Here, if we note $\\alpha_1$, $\\alpha_2$, $\\alpha_3$, $\\alpha_{12}$, $\\alpha_{13}$, $\\alpha_{23}$, $\\alpha_{11}$, $\\alpha_{22}$ and $\\alpha_{33}$ the coefficients of $z_1$, $z_2$, $z_3$,$z_1\\times z_2$, $z_1\\times z_3$, $z_2\\times z_3$, $z_1^2$, $z_2^2$ and $z_3^2$, then we have : $a = [\\alpha_1, \\alpha_2, \\alpha_3]$ and \n",
    "$ B = \\begin{pmatrix}\n",
    "\\alpha_{11} & \\alpha_{12} & \\alpha_{13} \\\\\n",
    "\\alpha_{21} & \\alpha_{22} & \\alpha_{23} \\\\\n",
    "\\alpha_{31} & \\alpha_{32} & \\alpha_{33} \\\\\n",
    "\\end{pmatrix}$ \n",
    "\n",
    "But with B symmetric so we only have 6 distinct coefficients in this matrix. This approach not only optimizes the computational effort but also enhances the model's interpretability and efficiency by focusing on the most influential terms.\n"
   ]
  },
  {
   "cell_type": "markdown",
   "metadata": {},
   "source": [
    "### Implementation"
   ]
  },
  {
   "cell_type": "markdown",
   "metadata": {},
   "source": [
    "***Step 0 :*** Let's remember the functions we'll have to use"
   ]
  },
  {
   "cell_type": "code",
   "execution_count": 2,
   "metadata": {},
   "outputs": [],
   "source": [
    "def simulate_garch(T, omega_1, omega_2, omega_3):\n",
    "    np.random.seed(423)  # For reproducibility\n",
    "    r = np.zeros(T)\n",
    "    h = np.zeros(T)\n",
    "    h[0] = omega_1 / (1 - omega_2 - omega_3)\n",
    "    r[0] = np.random.normal(0, np.sqrt(abs(h[0]))) # abs\n",
    "\n",
    "    \n",
    "    for t in range(1, T):\n",
    "        h[t] = omega_1 + omega_2 * r[t-1]**2 + omega_3 * h[t-1]\n",
    "        r[t] = np.random.normal(0, np.sqrt(abs(h[t]))) #abs\n",
    "        \n",
    "    return r, h\n",
    "\n",
    "def log_likelihood(r, omega_1, omega_2, omega_3):\n",
    "    T = len(r)\n",
    "    h = np.zeros(T)\n",
    "    h[0] = omega_1 / (1 - omega_2 - omega_3) if (omega_2 + omega_3) < 1 else 100000  # large number for stability\n",
    "    \n",
    "    log_lik = 0\n",
    "    for t in range(1, T):\n",
    "        h[t] = omega_1 + omega_2 * r[t-1]**2 + omega_3 * h[t-1]\n",
    "        log_lik -= 0.5 * (np.log(abs(h[t])) + r[t]**2 / h[t]) # abs\n",
    "    \n",
    "    return log_lik\n",
    "\n",
    "def log_posterior(r, omega_1, omega_2, omega_3, sigma_1, sigma_2, sigma_3):\n",
    "    log_prior = -0.5 * (omega_1**2 / sigma_1**2 + omega_2**2 / sigma_2**2 + omega_3**2 / sigma_3**2)\n",
    "    return log_likelihood(r, omega_1, omega_2, omega_3) + log_prior\n",
    "\n",
    "def proposal(omega_old, sigma_proposal ): # function used in the MH algorithm that will \"propose\" the new parameter (new omega here)\n",
    "    # omega_old is the list containing the old omegas, we will use a normal probability distribution to determine the new ones\n",
    "    omega = np.array([0.0,0.0,0.0])\n",
    "    omega[0] = np.random.normal(loc= omega_old[0], scale = sigma_proposal)\n",
    "    omega[1] = np.random.normal(loc= omega_old[1], scale = sigma_proposal)\n",
    "    omega[2] = np.random.normal(loc= omega_old[2], scale = sigma_proposal)\n",
    "\n",
    "    return omega\n",
    "\n",
    "def metropolis_hasting_algorithm(iterations, returns, sigma_proposal, initial_omega, sigma_omega):\n",
    "    # Let's initialize our variable\n",
    "    acceptation = np.array([False]*iterations) # we will through the iterations accept or not the change of value of omega\n",
    "    omega = initial_omega\n",
    "    omega_sampling = [omega]\n",
    "    # Let's apply the algorithm trough all the iterations\n",
    "    for t in range(iterations):\n",
    "        # We propose a candidate for omegas\n",
    "        omega_new = proposal(omega, sigma_proposal)\n",
    "        # We calculate the acceptance alpha which is ratio of the prior of the new omega over the old omega\n",
    "        alpha = log_posterior(returns,omega_new[0],omega_new[1],omega_new[2],sigma_omega[0],sigma_omega[1],sigma_omega[2]) - log_posterior(returns,omega[0],omega[1],omega[2],sigma_omega[0],sigma_omega[1],sigma_omega[2])\n",
    "        # We compare alpha with 1 and an uniform random number\n",
    "        u = np.random.uniform(0,1)\n",
    "        if alpha > 0:  # reminder that alpha is a log here so we don't compare with 1 but with 0\n",
    "            acceptation[t] = True\n",
    "            omega = omega_new\n",
    "        if alpha < 0:\n",
    "            if alpha > np.log(u): # we compare to log u and not u\n",
    "                acceptation[t]= False\n",
    "                omega = omega_new # we take the new omega\n",
    "        omega_sampling.append(omega)\n",
    "    acceptance_rate = np.sum(acceptation)/len(acceptation)*100\n",
    "    return acceptance_rate, omega_sampling\n",
    "\n"
   ]
  },
  {
   "cell_type": "code",
   "execution_count": 3,
   "metadata": {},
   "outputs": [],
   "source": [
    "def compute_h_t_derivatives(r, omega_1, omega_2, omega_3):\n",
    "    T = len(r)\n",
    "    h = np.zeros(T)\n",
    "    grad_h_omega1 = np.zeros(T)\n",
    "    grad_h_omega2 = np.zeros(T)\n",
    "    grad_h_omega3 = np.zeros(T)\n",
    "\n",
    "    # Initial volatility\n",
    "    h[0] = omega_1  \n",
    "\n",
    "    # Compute h and its derivatives\n",
    "    for t in range(1, T):\n",
    "        h[t] = omega_1 + omega_2 * r[t-1]**2 + omega_3 * h[t-1]\n",
    "        \n",
    "        # Derivative of h_t with respect to omega_1\n",
    "        grad_h_omega1[t] = (1 - omega_3**(t)) / (1 - omega_3) if omega_3 != 1 else t  # Using the geometric series\n",
    "\n",
    "        # Derivative of h_t with respect to omega_2\n",
    "        grad_h_omega2[t] = r[t-1]**2 + omega_3 * grad_h_omega2[t-1]\n",
    "\n",
    "        # Derivative of h_t with respect to omega_3\n",
    "        grad_h_omega3[t] = h[t-1] + omega_3 * grad_h_omega3[t-1]\n",
    "\n",
    "    return h, grad_h_omega1, grad_h_omega2, grad_h_omega3\n",
    "\n",
    "def compute_log_posterior_gradients(r, omega_1, omega_2, omega_3, sigma_1, sigma_2, sigma_3):\n",
    "    h, grad_h_omega1, grad_h_omega2, grad_h_omega3 = compute_h_t_derivatives(r, omega_1, omega_2, omega_3)\n",
    "    T = len(r)\n",
    "    gradients = np.zeros(3)\n",
    "\n",
    "    # Compute the gradient of the log-posterior for each parameter\n",
    "    gradients[0] = -omega_1 / sigma_1**2 - 0.5 * np.sum((1 / h) * grad_h_omega1 - (r**2 / h**2) * grad_h_omega1)\n",
    "    gradients[1] = -omega_2 / sigma_2**2 - 0.5 * np.sum((1 / h) * grad_h_omega2 - (r**2 / h**2) * grad_h_omega2)\n",
    "    gradients[2] = -omega_3 / sigma_3**2 - 0.5 * np.sum((1 / h) * grad_h_omega3 - (r**2 / h**2) * grad_h_omega3)\n",
    "\n",
    "    return gradients"
   ]
  },
  {
   "cell_type": "code",
   "execution_count": 4,
   "metadata": {},
   "outputs": [],
   "source": [
    "def compute_log_posterior_gradients_concatenator(r, sigma_1, sigma_2, sigma_3,w1_samples,w2_samples,w3_samples):\n",
    "    '''\n",
    "    This function computes the log posterior gradients at every points\n",
    "    '''\n",
    "    gradient_concat=[]\n",
    "    i = 0\n",
    "    for _ in r:\n",
    "        gradient_concat.append(compute_log_posterior_gradients(r, w1_samples[i],w2_samples[i],w3_samples[i], sigma_1, sigma_2, sigma_3))\n",
    "        i = i +1 \n",
    "    return np.array(gradient_concat)"
   ]
  },
  {
   "cell_type": "markdown",
   "metadata": {},
   "source": [
    "And let's define a new function that will help us calculte the 6 missing control variates"
   ]
  },
  {
   "cell_type": "code",
   "execution_count": 5,
   "metadata": {},
   "outputs": [],
   "source": [
    "def list_product(x,y):\n",
    "    result = []\n",
    "    # The 2 lists must be of same length\n",
    "    for i in range(len(x)):\n",
    "        product = x[i] * y[i]\n",
    "        result.append(product)\n",
    "    return result"
   ]
  },
  {
   "attachments": {},
   "cell_type": "markdown",
   "metadata": {},
   "source": [
    "Let's also import the new functions we'll have to use later"
   ]
  },
  {
   "cell_type": "code",
   "execution_count": 6,
   "metadata": {},
   "outputs": [],
   "source": [
    "from sklearn.linear_model import LinearRegression\n",
    "from sklearn.preprocessing import StandardScaler\n",
    "from sklearn.linear_model import LassoCV\n",
    "from sklearn.linear_model import Lasso\n",
    "from sklearn.linear_model import MultiTaskLasso\n",
    "from sklearn.linear_model import MultiTaskLassoCV"
   ]
  },
  {
   "cell_type": "markdown",
   "metadata": {},
   "source": [
    "***Step 1 :*** Compute the 6 new control variates"
   ]
  },
  {
   "cell_type": "code",
   "execution_count": 9,
   "metadata": {},
   "outputs": [],
   "source": [
    "# Parameters\n",
    "initial_omega = [0.3, 0.3, 0.3]\n",
    "true_omega = [0.6, 0.7, 0.4]  # These are the true parameters we want to estimate\n",
    "sigma_omega = [9, 9, 9]  # Standard deviations for the priors\n",
    "\n",
    "# Metropolis-Hastings settings\n",
    "iterations = 5000\n",
    "burn_in = 1000\n",
    "sigma_proposal = 0.01\n",
    "\n",
    "# Parameters (example values)\n",
    "omega_1, omega_2, omega_3 =0.1, 0.1, 0.8\n",
    "sigma_1, sigma_2, sigma_3 = 9, 9, 9\n",
    "# Simulate data\n",
    "T = iterations + 1 # Number of time points\n",
    "r, h = simulate_garch(T, true_omega[0], true_omega[1], true_omega[2])\n",
    "\n",
    "# Execute the Metropolis-Hastings algorithm\n",
    "acceptance_rate, omega_samples = metropolis_hasting_algorithm(iterations, r, sigma_proposal, initial_omega, sigma_omega)\n",
    "\n",
    "# We extract the parameter samples\n",
    "omega_samples = np.array(omega_samples)  # Convert list of samples into an array for easier slicing\n",
    "w1_samples = omega_samples[:, 0]\n",
    "w2_samples = omega_samples[:, 1]\n",
    "w3_samples = omega_samples[:, 2]\n",
    "\n",
    "# We compute the log posterior gradients at every point\n",
    "log_post_gradient = compute_log_posterior_gradients_concatenator(r, sigma_1, sigma_2, sigma_3, w1_samples, w2_samples, w3_samples)\n",
    "\n",
    "# We compute the control variates (z_i)\n",
    "x1 = [elem[0] if isinstance(elem, np.ndarray) else elem[0] for elem in log_post_gradient]\n",
    "x2 = [elem[1] if isinstance(elem, np.ndarray) else elem[1] for elem in log_post_gradient]\n",
    "x3 = [elem[2] if isinstance(elem, np.ndarray) else elem[2] for elem in log_post_gradient]\n",
    "\n",
    "x1x2 = list_product(x1, x2)\n",
    "x1x3 = list_product(x1, x3)\n",
    "x2x3 = list_product(x2, x3)\n",
    "x1_square = list_product(x1, x1)\n",
    "x2_square = list_product(x2, x2)\n",
    "x3_square = list_product(x3, x3)\n",
    "\n",
    "# We store these 9 control variates in an array \n",
    "z = np.column_stack((x1, x2, x3, x1x2, x1x3, x2x3, x1_square, x2_square, x3_square))\n"
   ]
  },
  {
   "cell_type": "code",
   "execution_count": 10,
   "metadata": {},
   "outputs": [
    {
     "data": {
      "text/plain": [
       "array([[3.84557902e+03, 1.10675770e+04, 9.86898076e+03, ...,\n",
       "        1.47884780e+07, 1.22491262e+08, 9.73967812e+07],\n",
       "       [3.84557902e+03, 1.10675770e+04, 9.86898076e+03, ...,\n",
       "        1.47884780e+07, 1.22491262e+08, 9.73967812e+07],\n",
       "       [3.84557902e+03, 1.10675770e+04, 9.86898076e+03, ...,\n",
       "        1.47884780e+07, 1.22491262e+08, 9.73967812e+07],\n",
       "       ...,\n",
       "       [7.10645000e+00, 3.96999555e+02, 3.83220842e+02, ...,\n",
       "        5.05016316e+01, 1.57608647e+05, 1.46858214e+05],\n",
       "       [7.10645000e+00, 3.96999555e+02, 3.83220842e+02, ...,\n",
       "        5.05016316e+01, 1.57608647e+05, 1.46858214e+05],\n",
       "       [7.10645000e+00, 3.96999555e+02, 3.83220842e+02, ...,\n",
       "        5.05016316e+01, 1.57608647e+05, 1.46858214e+05]])"
      ]
     },
     "execution_count": 10,
     "metadata": {},
     "output_type": "execute_result"
    }
   ],
   "source": [
    "z"
   ]
  },
  {
   "cell_type": "markdown",
   "metadata": {},
   "source": [
    "We indeed obtained our new z, with 9 control variates for each iteration"
   ]
  },
  {
   "cell_type": "markdown",
   "metadata": {},
   "source": [
    "***Step 2 :*** Lasso cross validation to find the best hyperparameter"
   ]
  },
  {
   "cell_type": "code",
   "execution_count": 11,
   "metadata": {},
   "outputs": [],
   "source": [
    "# We store our data in arrays after burn in \n",
    "w = np.column_stack((w1_samples, w2_samples, w3_samples))\n",
    "Y = np.array(w[burn_in:])\n",
    "Z = np.array(z[burn_in:])\n",
    "\n",
    "# We also store especially w1,w2 and w3, it might be useful later\n",
    "Y1 = np.array(w1_samples[burn_in:])\n",
    "Y2 = np.array(w2_samples[burn_in:])\n",
    "Y3 = np.array(w3_samples[burn_in:])"
   ]
  },
  {
   "cell_type": "code",
   "execution_count": 12,
   "metadata": {},
   "outputs": [
    {
     "name": "stderr",
     "output_type": "stream",
     "text": [
      "/Users/antoine/Library/Python/3.9/lib/python/site-packages/sklearn/linear_model/_coordinate_descent.py:614: ConvergenceWarning: Objective did not converge. You might want to increase the number of iterations. Duality gap: 0.0007859554789024781, tolerance: 0.0006274315532178564\n",
      "  model = cd_fast.enet_coordinate_descent_gram(\n",
      "/Users/antoine/Library/Python/3.9/lib/python/site-packages/sklearn/linear_model/_coordinate_descent.py:614: ConvergenceWarning: Objective did not converge. You might want to increase the number of iterations. Duality gap: 0.0007701482585110719, tolerance: 0.0006274315532178564\n",
      "  model = cd_fast.enet_coordinate_descent_gram(\n",
      "/Users/antoine/Library/Python/3.9/lib/python/site-packages/sklearn/linear_model/_coordinate_descent.py:614: ConvergenceWarning: Objective did not converge. You might want to increase the number of iterations. Duality gap: 0.000736520083183867, tolerance: 0.0006274315532178564\n",
      "  model = cd_fast.enet_coordinate_descent_gram(\n"
     ]
    },
    {
     "name": "stdout",
     "output_type": "stream",
     "text": [
      "Optimal lambda: 0.9569567913835515\n"
     ]
    },
    {
     "name": "stderr",
     "output_type": "stream",
     "text": [
      "/Users/antoine/Library/Python/3.9/lib/python/site-packages/sklearn/linear_model/_coordinate_descent.py:628: ConvergenceWarning: Objective did not converge. You might want to increase the number of iterations, check the scale of the features or consider increasing regularisation. Duality gap: 1.319e-03, tolerance: 8.562e-04\n",
      "  model = cd_fast.enet_coordinate_descent(\n"
     ]
    }
   ],
   "source": [
    "# We do a Lasso Cross Validation in order to find the optimal parameter lambda : step 2 of the method\n",
    "\n",
    "alphas = [0.0001, 0.0001, 0.001, 0.1, 1,1.5] # List of hyperparameters that will be tested through Cross Validation\n",
    "\n",
    "lasso_cv = LassoCV(cv=5) # évaluer les performances de la régression Lasso\n",
    "\n",
    "lasso_cv.fit(Z,Y1) # utilisation de la validation croisée, avec Z variable de controle, Y variable expliquée\n",
    "\n",
    "print(\"Optimal lambda:\", lasso_cv.alpha_)"
   ]
  },
  {
   "attachments": {},
   "cell_type": "markdown",
   "metadata": {},
   "source": [
    "We obtain our optimal lambda : 0.95"
   ]
  },
  {
   "cell_type": "markdown",
   "metadata": {},
   "source": [
    "***Step 3 :*** Lasso regression using the parameters we found, and only using the most useful control variates."
   ]
  },
  {
   "cell_type": "code",
   "execution_count": 13,
   "metadata": {},
   "outputs": [],
   "source": [
    "# With the optimal lambda we just found, we do a Lasso regression to select the variables\n",
    "lasso_bestmodel = Lasso(alpha=lasso_cv.alpha_)\n",
    "lasso_bestmodel.fit(Y,Z)\n",
    "coeff_lasso = lasso_bestmodel.coef_"
   ]
  },
  {
   "cell_type": "code",
   "execution_count": 14,
   "metadata": {},
   "outputs": [
    {
     "data": {
      "text/plain": [
       "array([[-0.00000000e+00,  0.00000000e+00, -0.00000000e+00],\n",
       "       [-1.06054795e+02, -0.00000000e+00, -0.00000000e+00],\n",
       "       [-0.00000000e+00,  0.00000000e+00, -2.20277244e+02],\n",
       "       [-2.69367537e+05, -2.17808379e+05, -7.54943676e+05],\n",
       "       [-2.68760151e+05, -2.22200826e+05, -7.43722664e+05],\n",
       "       [-1.30340732e+06, -5.09993300e+06, -9.50815696e+06],\n",
       "       [-3.48547501e+03, -0.00000000e+00,  0.00000000e+00],\n",
       "       [-7.53443919e+05, -4.38465249e+06, -5.76984731e+06],\n",
       "       [-1.82621175e+06, -5.77029904e+06, -1.31701080e+07]])"
      ]
     },
     "execution_count": 14,
     "metadata": {},
     "output_type": "execute_result"
    }
   ],
   "source": [
    "coeff_lasso"
   ]
  },
  {
   "attachments": {},
   "cell_type": "markdown",
   "metadata": {},
   "source": [
    "We can see that indeed, some coefficients have been set to 0 by Lasso !"
   ]
  },
  {
   "cell_type": "code",
   "execution_count": 15,
   "metadata": {},
   "outputs": [],
   "source": [
    "def real_extract_non_null(coeff_lasso): # the goal is to extract the rows of the Z matrix where the coefficients of each w_i are not zero\n",
    "\n",
    "    # Indexes of the non nul coefficients in the first, second and third column\n",
    "    nonnull_w1 = np.nonzero(coeff_lasso[:, 0])[0].tolist()\n",
    "    nonnull_w2 = np.nonzero(coeff_lasso[:, 1])[0].tolist()\n",
    "    nonnull_w3 = np.nonzero(coeff_lasso[:, 2])[0].tolist()\n",
    "    # We initialize empty lists for the 3 regressions that we are going to do of each w_i on the Z kept.\n",
    "    controlvarw1 = []\n",
    "    controlvarw2 = []\n",
    "    controlvarw3 = []\n",
    "\n",
    "    for i in range(len(Z)):\n",
    "        # We fulfill the 3 lists with the non null values remaining of the z_i\n",
    "        controlvarw1.append([Z[i,j] for j in nonnull_w1])\n",
    "        controlvarw2.append([Z[i,j] for j in nonnull_w2])\n",
    "        controlvarw3.append([Z[i,j] for j in nonnull_w3])\n",
    "        \n",
    "    return np.asarray(controlvarw1), np.asarray(controlvarw2), np.asarray(controlvarw3)\n",
    "\n",
    "# returns lists where the coefficients representing w_i is not null\n"
   ]
  },
  {
   "cell_type": "markdown",
   "metadata": {},
   "source": [
    "***Step 4 :*** OLS regression using the parameters we kept, and finding their optimal values"
   ]
  },
  {
   "cell_type": "markdown",
   "metadata": {},
   "source": [
    "Now, let's do the 3 regressions of w_1, w_2 and w_3 on Z with the control variates we kept."
   ]
  },
  {
   "cell_type": "code",
   "execution_count": 16,
   "metadata": {},
   "outputs": [],
   "source": [
    "def OLS_reg(coeff_lasso, w1, w2, w3):\n",
    "    controlvarw1, controlvarw2, controlvarw3 = real_extract_non_null(coeff_lasso)\n",
    "    reg1 = LinearRegression()\n",
    "    reg1.fit(controlvarw1, w1) # On fait la regression seulement sur la partie qui n'est pas nulle\n",
    "    coeff_reg1 = reg1.coef_.tolist()\n",
    "    reg2 = LinearRegression()\n",
    "    reg2.fit(controlvarw2, w2)\n",
    "    coeff_reg2 = reg2.coef_.tolist()\n",
    "    reg3 = LinearRegression()\n",
    "    reg3.fit(controlvarw3, w3)\n",
    "    coeff_reg3 = reg3.coef_.tolist()\n",
    "\n",
    "    # We return the coefficient of the 3 regressions\n",
    "    return coeff_reg1, coeff_reg2, coeff_reg3\n"
   ]
  },
  {
   "cell_type": "markdown",
   "metadata": {},
   "source": [
    "Now, lets create the matrix as depicted in the paper, the 3x3 matrix, dimension 9."
   ]
  },
  {
   "cell_type": "code",
   "execution_count": 17,
   "metadata": {},
   "outputs": [],
   "source": [
    "\n",
    "def matrix_coeff(coeff_lasso, w1, w2, w3):\n",
    "    coeff_reg1 = OLS_reg(coeff_lasso, w1, w2, w3)[0]\n",
    "    coeff_reg2 = OLS_reg(coeff_lasso, w1, w2, w3)[1]\n",
    "    coeff_reg3 = OLS_reg(coeff_lasso, w1, w2, w3)[2]\n",
    "\n",
    "    # We add 0 to the z_i that were removed after Lasso to have again our 9 control variates \n",
    "    # vectors with some values therefore equal to 0 if the control variate was not used\n",
    "    # Thus we still are in dimension 9 while having removed the useless coefficients\n",
    "\n",
    "    for i in np.where(coeff_lasso[:, 0] == 0)[0]:\n",
    "        coeff_reg1.insert(i,0)\n",
    "    for j in np.where(coeff_lasso[:, 1] == 0)[0]:\n",
    "        coeff_reg2.insert(j,0)\n",
    "    for l in np.where(coeff_lasso[:, 2] == 0)[0]:\n",
    "        coeff_reg3.insert(l,0)\n",
    "        \n",
    "    #This corresponds, for each wi, to the 3 first coefficients of the control variates associated to each linear regression\n",
    "    A_reg1 = [coeff_reg1[i] for i in range(3)]\n",
    "    A_reg2 = [coeff_reg2[i] for i in range(3)]\n",
    "    A_reg3 = [coeff_reg3[i] for i in range(3)]\n",
    "    # direct effects of control variables on the parameter, constant\n",
    "    \n",
    "    # B is symmetric so we only need 6 coefficients for the 6 remaining coefficients of the control variates, for each of the 3 regression\n",
    "    # First regression \n",
    "    reg1_B11 = coeff_reg1[6]\n",
    "    reg1_B12 = coeff_reg1[3]\n",
    "    reg1_B13 = coeff_reg1[5]\n",
    "    reg1_B22 = coeff_reg1[7]\n",
    "    reg1_B23 = coeff_reg1[4]\n",
    "    reg1_B33 = coeff_reg1[8]\n",
    "    B_reg1 = np.array([[reg1_B11,reg1_B12,reg1_B13],[reg1_B12,reg1_B22,reg1_B23],[reg1_B13,reg1_B23,reg1_B33]])\n",
    "    # Coviarance matrix\n",
    "    \n",
    "    # Second regression \n",
    "    reg2_B11 = coeff_reg2[6]\n",
    "    reg2_B12 = coeff_reg2[3]\n",
    "    reg2_B13 = coeff_reg2[5]\n",
    "    reg2_B22 = coeff_reg2[7]\n",
    "    reg2_B23 = coeff_reg2[4]\n",
    "    reg2_B33 = coeff_reg2[8]\n",
    "    B_reg2 = np.array([[reg1_B11,reg1_B12,reg1_B13],[reg1_B12,reg1_B22,reg1_B23],[reg1_B13,reg1_B23,reg1_B33]])\n",
    "    \n",
    "    # Third regression \n",
    "    reg3_11 = coeff_reg3[6]\n",
    "    reg3_B12 = coeff_reg3[3]\n",
    "    reg3_B13 = coeff_reg3[5]\n",
    "    reg3_B22 = coeff_reg3[7]\n",
    "    reg3_B23 = coeff_reg3[4]\n",
    "    reg3_B33 = coeff_reg3[8]\n",
    "    B_reg3 = np.array([[reg1_B11,reg1_B12,reg1_B13],[reg1_B12,reg1_B22,reg1_B23],[reg1_B13,reg1_B23,reg1_B33]])\n",
    "    \n",
    "    return A_reg1, B_reg1, A_reg2, B_reg2, A_reg3, B_reg3"
   ]
  },
  {
   "cell_type": "markdown",
   "metadata": {},
   "source": [
    "Now, we've obtained the optimal coefficients for the matrix B (symmetric so thats why we have only 6)"
   ]
  },
  {
   "cell_type": "markdown",
   "metadata": {},
   "source": [
    "***Step 5 :*** Computing the values and their variance"
   ]
  },
  {
   "cell_type": "markdown",
   "metadata": {},
   "source": [
    "We'll need to create a Trace function as we know the form of the polynom when it's a second order case. \n",
    "Indeed, for quadratic polynomials $P(x) = a^T\\times x + \\frac{1}{2}\\times x^TBx$ (as given in the paper), the re-normalized $\\tilde{f}$ is now:$\\tilde{f}(x) = f(x) - \\frac{1}{2}\\operatorname{tr}(B) + (a + Bx)^Tz$. "
   ]
  },
  {
   "cell_type": "code",
   "execution_count": 18,
   "metadata": {},
   "outputs": [],
   "source": [
    "def trace(B):\n",
    "    return(B[0,0] + B[1,1] + B[2,2])"
   ]
  },
  {
   "cell_type": "markdown",
   "metadata": {},
   "source": [
    "Let's compute the estimators of all w now that we added control variates"
   ]
  },
  {
   "cell_type": "code",
   "execution_count": 20,
   "metadata": {},
   "outputs": [],
   "source": [
    "def ZV_MCMC_Q3(coeff_lasso, w1, w2, w3):\n",
    "    a_reg1, B_reg1, a_reg2, B_reg2, a_reg3, B_reg3 = matrix_coeff(coeff_lasso, w1, w2, w3)\n",
    "    trace_reg1, trace_reg2, trace_reg3 = trace(B_reg1), trace(B_reg2), trace(B_reg3)\n",
    "    w1_tilde = [w1[i] - (0.5)*trace_reg1 + np.dot(a_reg1 + np.dot(B_reg1,Y[i]), w1[i]) for i in range(len(Y1))]\n",
    "    w2_tilde = [w2[i] - (0.5)*trace_reg2 + np.dot(a_reg2 + np.dot(B_reg2,Y[i]), w2[i]) for i in range(len(Y2))]\n",
    "    w3_tilde = [w3[i] - (0.5)*trace_reg3 + np.dot(a_reg3 + np.dot(B_reg3,Y[i]), w3[i]) for i in range(len(Y3))]\n",
    "    return w1_tilde, w2_tilde, w3_tilde\n",
    "\n",
    "w1_tilde, w2_tilde, w3_tilde = ZV_MCMC_Q3(coeff_lasso, Y1, Y2, Y3)"
   ]
  },
  {
   "cell_type": "markdown",
   "metadata": {},
   "source": [
    "Let's now compare our new estimation of w with the previous ones, without the addition of control variates."
   ]
  },
  {
   "cell_type": "code",
   "execution_count": 21,
   "metadata": {},
   "outputs": [
    {
     "name": "stdout",
     "output_type": "stream",
     "text": [
      "Mean of w_1 for the ZV MCMC method with control variates = 0.6825050158775506\n",
      "Mean of w_1 for the MCMC method without control variates = 0.5579056386090606\n",
      "Variance of w_1 for the ZV MCMC method with control variates = 0.002138995921431592\n",
      "Variance of w_1 for the MCMC method without control variates = 0.009411801142404717\n"
     ]
    }
   ],
   "source": [
    "\n",
    "print(\"Mean of w_1 for the ZV MCMC method with control variates =\", np.mean(w1_tilde))\n",
    "print(\"Mean of w_1 for the MCMC method without control variates =\", np.mean(w1_samples[:burn_in]))\n",
    "print(\"Variance of w_1 for the ZV MCMC method with control variates =\", np.var(w1_tilde))\n",
    "print(\"Variance of w_1 for the MCMC method without control variates =\", np.var(w1_samples[:burn_in]))\n"
   ]
  },
  {
   "cell_type": "code",
   "execution_count": 22,
   "metadata": {},
   "outputs": [
    {
     "name": "stdout",
     "output_type": "stream",
     "text": [
      "Mean of w_2 for the ZV MCMC method with control variates = 0.5894604046884406\n",
      "Mean of w_2 for the MCMC method without control variates = 0.5490795035885889\n",
      "Variance of w_2 for the ZV MCMC method with control variates = 0.0002220564698549798\n",
      "Variance of w_2 for the MCMC method with control variates = 0.0035062905870453685\n"
     ]
    }
   ],
   "source": [
    "\n",
    "print(\"Mean of w_2 for the ZV MCMC method with control variates =\", np.mean(w2_tilde))\n",
    "print(\"Mean of w_2 for the MCMC method without control variates =\", np.mean(w2_samples[:burn_in]))\n",
    "print(\"Variance of w_2 for the ZV MCMC method with control variates =\", np.var(w2_tilde))\n",
    "print(\"Variance of w_2 for the MCMC method with control variates =\", np.var(w2_samples[:burn_in]))\n"
   ]
  },
  {
   "cell_type": "code",
   "execution_count": 23,
   "metadata": {},
   "outputs": [
    {
     "name": "stdout",
     "output_type": "stream",
     "text": [
      "Mean of w_3 for the ZV MCMC method with control variates = 0.40551510149413655\n",
      "Mean of w_3 for the MCMC method with control variates = 0.43167609823790826\n",
      "Variance of w_3 for the ZV MCMC method with control variates = 0.00021218548201909967\n",
      "Variance of w_3 for the MCMC method with control variates = 0.0012175503392140314\n"
     ]
    }
   ],
   "source": [
    "\n",
    "print(\"Mean of w_3 for the ZV MCMC method with control variates =\", np.mean(w3_tilde))\n",
    "print(\"Mean of w_3 for the MCMC method with control variates =\", np.mean(w3_samples[:burn_in]))\n",
    "print(\"Variance of w_3 for the ZV MCMC method with control variates =\", np.var(w3_tilde))\n",
    "print(\"Variance of w_3 for the MCMC method with control variates =\", np.var(w3_samples[:burn_in]))"
   ]
  },
  {
   "attachments": {},
   "cell_type": "markdown",
   "metadata": {},
   "source": [
    "### For every w, the variance reduction method works and is closer to the real value of w. The ZV-MCMC method worked in an higher dimensional space !"
   ]
  },
  {
   "attachments": {},
   "cell_type": "markdown",
   "metadata": {},
   "source": [
    "To have a better idea of how well or not does this method work, we could compare this LASSO method with the naive method which only consists in doing the full regression of f on -z in order to find the optimal coefficients 9 components in the vector for the 2nd order polynomial case (instead of 3 in Question 2 with 1st order polynomial case).\n",
    "\n",
    "It should lead to a lower variance but a longer time for the execution of the algorithm, which is why we would prefer use the LASSO Method when we have a high degre polynomial case."
   ]
  },
  {
   "cell_type": "code",
   "execution_count": 24,
   "metadata": {},
   "outputs": [],
   "source": [
    "# First, we have to compute everything again\n",
    "\n",
    "\n",
    "initial_omega = [0.3, 0.3, 0.3]\n",
    "true_omega = [0.6, 0.7, 0.4]  # These are the true parameters we want to estimate\n",
    "sigma_omega = [9, 9, 9]  # Standard deviations for the priors\n",
    "\n",
    "# Metropolis-Hastings settings\n",
    "iterations = 5000\n",
    "burn_in = 1000\n",
    "sigma_proposal = 0.01\n",
    "\n",
    "# Parameters (example values)\n",
    "omega_1, omega_2, omega_3 =0.1, 0.1, 0.8\n",
    "sigma_1, sigma_2, sigma_3 = 9, 9, 9\n",
    "# Simulate data\n",
    "T = iterations + 1 # Number of time points\n",
    "r, h = simulate_garch(T, true_omega[0], true_omega[1], true_omega[2])\n",
    "\n",
    "# Execute the Metropolis-Hastings algorithm\n",
    "acceptance_rate, omega_samples = metropolis_hasting_algorithm(iterations, r, sigma_proposal, initial_omega, sigma_omega)\n",
    "\n",
    "# We extract the parameter samples\n",
    "omega_samples = np.array(omega_samples)  # Convert list of samples into an array for easier slicing\n",
    "w1_samples = omega_samples[:, 0]\n",
    "w2_samples = omega_samples[:, 1]\n",
    "w3_samples = omega_samples[:, 2]\n",
    "\n",
    "# We compute the log posterior gradients at every point\n",
    "log_post_gradient = compute_log_posterior_gradients_concatenator(r, sigma_1, sigma_2, sigma_3, w1_samples, w2_samples, w3_samples)\n",
    "\n",
    "# We compute the control variates (z_i)\n",
    "x1 = [elem[0] if isinstance(elem, np.ndarray) else elem[0] for elem in log_post_gradient]\n",
    "x2 = [elem[1] if isinstance(elem, np.ndarray) else elem[1] for elem in log_post_gradient]\n",
    "x3 = [elem[2] if isinstance(elem, np.ndarray) else elem[2] for elem in log_post_gradient]\n",
    "\n",
    "x1x2 = list_product(x1, x2)\n",
    "x1x3 = list_product(x1, x3)\n",
    "x2x3 = list_product(x2, x3)\n",
    "x1_square = list_product(x1, x1)\n",
    "x2_square = list_product(x2, x2)\n",
    "x3_square = list_product(x3, x3)\n",
    "\n",
    "# We store these 9 control variates in an array \n",
    "z = np.column_stack((x1, x2, x3, x1x2, x1x3, x2x3, x1_square, x2_square, x3_square))\n",
    "\n",
    "\n",
    "Y = np.array(w[burn_in:])\n",
    "Z = np.array(z[burn_in:])\n",
    "Y1 = np.array(w1_samples[burn_in:])\n",
    "Y2 = np.array(w2_samples[burn_in:])\n",
    "Y3 = np.array(w3_samples[burn_in:])\n",
    "# We do the 3 regressions of w_1, w_2 and w_3 on Z : step 4 of the method \n"
   ]
  },
  {
   "attachments": {},
   "cell_type": "markdown",
   "metadata": {},
   "source": [
    "### The difference with the Lasso Method is here in OLS_bis : we regress on the full vector of control variate Z, instead of using the lasso method to determine the most important components."
   ]
  },
  {
   "cell_type": "code",
   "execution_count": 26,
   "metadata": {},
   "outputs": [],
   "source": [
    "\n",
    "def OLS_bis(w1, w2, w3): # New OLS function, that regresses the w_i on all Z, and not a new Z made by Lasso\n",
    "    reg1 = LinearRegression()\n",
    "    reg1.fit(Z, w1) # On fait la regression sur l'entiéreté de Z\n",
    "    coeff_reg1 = reg1.coef_.tolist()\n",
    "    reg2 = LinearRegression()\n",
    "    reg2.fit(Z, w2)\n",
    "    coeff_reg2 = reg2.coef_.tolist()\n",
    "    reg3 = LinearRegression()\n",
    "    reg3.fit(Z, w3)\n",
    "    coeff_reg3 = reg3.coef_.tolist()\n",
    "    # We return the coefficient of the 3 regressions\n",
    "    return coeff_reg1, coeff_reg2, coeff_reg3\n",
    "# We compute the a vector as well as the B matrix defined in the article and previously in the notebook\n",
    "\n",
    "def matrix_coeff_bis(w1, w2, w3):\n",
    "    coeff_reg1 = OLS_bis(w1, w2, w3)[0]\n",
    "    coeff_reg2 = OLS_bis(w1, w2, w3)[1]\n",
    "    coeff_reg3 = OLS_bis(w1, w2, w3)[2]\n",
    "        \n",
    "    #This corresponds, for each wi, to the 3 first coefficients of the control variates associated to each linear regression\n",
    "    a_reg1 = [coeff_reg1[i] for i in range(3)]\n",
    "    a_reg2 = [coeff_reg2[i] for i in range(3)]\n",
    "    a_reg3 = [coeff_reg3[i] for i in range(3)]\n",
    "    \n",
    "    # B is symmetric so we only need 6 coefficients for the 6 remaining coefficients of the control variates, for each of the 3 regression\n",
    "    # First regression \n",
    "    reg1_b11 = coeff_reg1[6]\n",
    "    reg1_b12 = coeff_reg1[3]\n",
    "    reg1_b13 = coeff_reg1[5]\n",
    "    reg1_b22 = coeff_reg1[7]\n",
    "    reg1_b23 = coeff_reg1[4]\n",
    "    reg1_b33 = coeff_reg1[8]\n",
    "    B_reg1 = np.array([[reg1_b11,reg1_b12,reg1_b13],[reg1_b12,reg1_b22,reg1_b23],[reg1_b13,reg1_b23,reg1_b33]])\n",
    "    \n",
    "    # Second regression \n",
    "    reg2_b11 = coeff_reg2[6]\n",
    "    reg2_b12 = coeff_reg2[3]\n",
    "    reg2_b13 = coeff_reg2[5]\n",
    "    reg2_b22 = coeff_reg2[7]\n",
    "    reg2_b23 = coeff_reg2[4]\n",
    "    reg2_b33 = coeff_reg2[8]\n",
    "    B_reg2 = np.array([[reg1_b11,reg1_b12,reg1_b13],[reg1_b12,reg1_b22,reg1_b23],[reg1_b13,reg1_b23,reg1_b33]])\n",
    "    \n",
    "    # Third regression \n",
    "    reg3_b11 = coeff_reg3[6]\n",
    "    reg3_b12 = coeff_reg3[3]\n",
    "    reg3_b13 = coeff_reg3[5]\n",
    "    reg3_b22 = coeff_reg3[7]\n",
    "    reg3_b23 = coeff_reg3[4]\n",
    "    reg3_b33 = coeff_reg3[8]\n",
    "    B_reg3 = np.array([[reg1_b11,reg1_b12,reg1_b13],[reg1_b12,reg1_b22,reg1_b23],[reg1_b13,reg1_b23,reg1_b33]])\n",
    "    \n",
    "    return a_reg1, B_reg1, a_reg2, B_reg2, a_reg3, B_reg3\n",
    "\n",
    "def trace(B):\n",
    "    return(B[0,0] + B[1,1] + B[2,2])\n",
    "\n",
    "def ZV_MCMC_Q3_bis(w1, w2, w3):\n",
    "    a_reg1, B_reg1, a_reg2, B_reg2, a_reg3, B_reg3 = matrix_coeff_bis(w1, w2, w3)\n",
    "    trace_reg1, trace_reg2, trace_reg3 = trace(B_reg1), trace(B_reg2), trace(B_reg3)\n",
    "    w1_tilde = [w1[i] - (0.5)*trace_reg1 + np.dot(a_reg1 + np.dot(B_reg1,Y[i]), w1[i]) for i in range(len(Y1))]\n",
    "    w2_tilde = [w2[i] - (0.5)*trace_reg2 + np.dot(a_reg2 + np.dot(B_reg2,Y[i]), w2[i]) for i in range(len(Y2))]\n",
    "    w3_tilde = [w3[i] - (0.5)*trace_reg3 + np.dot(a_reg3 + np.dot(B_reg3,Y[i]), w3[i]) for i in range(len(Y3))]\n",
    "    return w1_tilde, w2_tilde, w3_tilde"
   ]
  },
  {
   "cell_type": "code",
   "execution_count": 27,
   "metadata": {},
   "outputs": [],
   "source": [
    "w1_tilde_bis, w2_tilde_bis, w3_tilde_bis = ZV_MCMC_Q3_bis(Y1, Y2, Y3)"
   ]
  },
  {
   "cell_type": "code",
   "execution_count": 28,
   "metadata": {},
   "outputs": [
    {
     "name": "stdout",
     "output_type": "stream",
     "text": [
      "Mean of w_1 for the ZV MCMC method with control variates = 0.6825050158775506\n",
      "Mean of w_1_bis for the ZV MCMC method with control variates = 0.6822246998655216\n",
      "Mean of w_1 for the MCMC method without control variates = 0.5579056386090606\n",
      "Variance of w_1 for the ZV MCMC method with control variates = 0.002138995921431592\n",
      "Variance of w_1 for the ZV MCMC method with control variates = 0.0021377844225412106\n",
      "Variance of w_1 for the MCMC method without control variates = 0.009411801142404717\n"
     ]
    }
   ],
   "source": [
    "\n",
    "print(\"Mean of w_1 for the ZV MCMC method with control variates =\", np.mean(w1_tilde))\n",
    "print(\"Mean of w_1_bis for the ZV MCMC method with control variates =\", np.mean(w1_tilde_bis))\n",
    "print(\"Mean of w_1 for the MCMC method without control variates =\", np.mean(w1_samples[:burn_in]))\n",
    "print(\"Variance of w_1 for the ZV MCMC method with control variates =\", np.var(w1_tilde))\n",
    "print(\"Variance of w_1 for the ZV MCMC method with control variates =\", np.var(w1_tilde_bis))\n",
    "print(\"Variance of w_1 for the MCMC method without control variates =\", np.var(w1_samples[:burn_in]))\n"
   ]
  },
  {
   "cell_type": "code",
   "execution_count": 29,
   "metadata": {},
   "outputs": [
    {
     "name": "stdout",
     "output_type": "stream",
     "text": [
      "Mean of w_2 for the ZV MCMC method with control variates = 0.5894604046884406\n",
      "Mean of w_2_bis for the ZV MCMC method with control variates = 0.5893664685329194\n",
      "Mean of w_2 for the MCMC method without control variates = 0.5490795035885889\n",
      "Variance of w_2 for the ZV MCMC method with control variates = 0.0002220564698549798\n",
      "Variance of w_2_bis for the ZV MCMC method with control variates = 0.00022203010080904206\n",
      "Variance of w_2 for the MCMC method with control variates = 0.0035062905870453685\n"
     ]
    }
   ],
   "source": [
    "\n",
    "print(\"Mean of w_2 for the ZV MCMC method with control variates =\", np.mean(w2_tilde))\n",
    "print(\"Mean of w_2_bis for the ZV MCMC method with control variates =\", np.mean(w2_tilde_bis))\n",
    "print(\"Mean of w_2 for the MCMC method without control variates =\", np.mean(w2_samples[:burn_in]))\n",
    "print(\"Variance of w_2 for the ZV MCMC method with control variates =\", np.var(w2_tilde))\n",
    "print(\"Variance of w_2_bis for the ZV MCMC method with control variates =\", np.var(w2_tilde_bis))\n",
    "print(\"Variance of w_2 for the MCMC method with control variates =\", np.var(w2_samples[:burn_in]))\n"
   ]
  },
  {
   "cell_type": "code",
   "execution_count": 30,
   "metadata": {},
   "outputs": [
    {
     "name": "stdout",
     "output_type": "stream",
     "text": [
      "Mean of w_3 for the ZV MCMC method with control variates = 0.40551510149413655\n",
      "Mean of w_3_bis for the ZV MCMC method with control variates = 0.40556941758646714\n",
      "Mean of w_3 for the MCMC method with control variates = 0.43167609823790826\n",
      "Variance of w_3 for the ZV MCMC method with control variates = 0.00021218548201909967\n",
      "Variance of w_3_bis for the ZV MCMC method with control variates = 0.00021224961391397732\n",
      "Variance of w_3 for the MCMC method with control variates = 0.0012175503392140314\n"
     ]
    }
   ],
   "source": [
    "\n",
    "print(\"Mean of w_3 for the ZV MCMC method with control variates =\", np.mean(w3_tilde))\n",
    "print(\"Mean of w_3_bis for the ZV MCMC method with control variates =\", np.mean(w3_tilde_bis))\n",
    "print(\"Mean of w_3 for the MCMC method with control variates =\", np.mean(w3_samples[:burn_in]))\n",
    "print(\"Variance of w_3 for the ZV MCMC method with control variates =\", np.var(w3_tilde))\n",
    "print(\"Variance of w_3_bis for the ZV MCMC method with control variates =\", np.var(w3_tilde_bis))\n",
    "print(\"Variance of w_3 for the MCMC method with control variates =\", np.var(w3_samples[:burn_in]))"
   ]
  },
  {
   "attachments": {},
   "cell_type": "markdown",
   "metadata": {},
   "source": [
    "Conclusion : the naive method indeed lowered the vairance, but just by a little margin, but it took longer to compute. That is not worth doing it, we would prefer LASSO !"
   ]
  },
  {
   "cell_type": "markdown",
   "metadata": {},
   "source": [
    "## V - Bonus: Linear Regression Validity\n",
    "\n",
    "*Is the fact that we do linear regression completely valid when applied to an MCMC sample? Try to think of ways to address this issue. Hint: you could think of ways to make MCMC simulations less \"dependent\", by sub-sampling, or averaging over blocks of a given size, or another approach.*"
   ]
  },
  {
   "cell_type": "markdown",
   "metadata": {},
   "source": [
    "### Challenges of Applying Linear Regression to MCMC Samples\n",
    "\n",
    "Linear regression is a widely used statistical tool that relies on specific assumptions to be effective:\n",
    "\n",
    "- **Measurement Accuracy**: Observations must be accurately measured without error.\n",
    "- **Sufficient Observations**: There should be more observations than explanatory variables.\n",
    "- **No Collinearity**: The explanatory variables should not be collinear.\n",
    "- **Independence**: Observations need to be independent and identically distributed (iid).\n",
    "- **Homoscedasticity**: The variance of the residuals should be constant across all values of the independent variable.\n",
    "- **Normality**: Residuals must be normally distributed.\n",
    "\n",
    "#### Independence Issue with MCMC Samples\n",
    "\n",
    "In the Metropolis-Hastings MCMC framework, the sequence of samples forms a Markov chain where each step depends on the previous one. This dependency violates the independence assumption necessary for linear regression, potentially leading to biased estimates and underestimation of standard errors. \n",
    "\n",
    "##### Subsampling as a Solution\n",
    "\n",
    "**Objective**: Reduce dependency between observations to enable the effective use of linear regression.\n",
    "\n",
    "**Methodology**:\n",
    "- Randomly select a subset of data from the original dataset.\n",
    "- Create a smaller, representative design submatrix that maintains essential statistical properties.\n",
    "\n",
    "**Effectiveness**: Subsampling addresses the dependency problem by breaking the sequence of observations and allowing a random, non-sequential selection of data. This process reduces interdependencies and makes the application of linear regression more appropriate. (This method is well-documented in literature, notably in \"Optimal Subsampling Approaches for Large Sample Linear Regression\" by Rong Zhu, Ping Ma, Michael W. Mahoney, and Bin Yu.)\n",
    "\n",
    "While linear regression may not be directly applicable to MCMC samples due to their dependency structure, subsampling offers a practical workaround. By effectively reducing dependencies within the data, subsampling allows for more reliable and unbiased application of linear regression, ensuring that the assumptions of independence and homoscedasticity are better met.\n",
    "\n",
    "### Implementation"
   ]
  },
  {
   "cell_type": "code",
   "execution_count": null,
   "metadata": {},
   "outputs": [],
   "source": [
    "# Subsampling : we use the 15*np.sqrt(N) number of subsamples as detailed in the 2nd paper with the LSLASSO(X) Method. \n",
    "\n",
    "iterations = 2000\n",
    "N = np.sqrt(iterations)*15 \n",
    "length_subsample = int(N)\n",
    "\n",
    "indices = random.sample(range(1, iterations), length_subsample)\n",
    "indices = sorted(indices)"
   ]
  },
  {
   "cell_type": "markdown",
   "metadata": {},
   "source": [
    "REFAIRE COMME EN Q2 (w_tilde) MAIS AVEC LES W SUBSAMPLED : VOIR EN BAS POUR L'INSPI"
   ]
  },
  {
   "cell_type": "code",
   "execution_count": null,
   "metadata": {},
   "outputs": [],
   "source": [
    "def w_tilde():\n",
    "\n",
    "    # We run the basic Metropolis Sampler\n",
    "    liste = metropolis_hastings(initial_omega, returns, iterations,std_prior, std_proposal)\n",
    "    \n",
    "    # Chain of w_i\n",
    "    # We store the values of w1, w2 and w3 \n",
    "    w1 = [elem[0] if isinstance(elem, np.ndarray) else elem[0] for elem in liste[0]]\n",
    "    w2 = [elem[1] if isinstance(elem, np.ndarray) else elem[1] for elem in liste[0]]\n",
    "    w3 = [elem[2] if isinstance(elem, np.ndarray) else elem[2] for elem in liste[0]]\n",
    "    # We create a vector omega \n",
    "    \n",
    "    w1_subsampled = [w1[i] for i in indices]\n",
    "    w2_subsampled = [w2[i] for i in indices]\n",
    "    w3_subsampled = [w3[i] for i in indices]\n",
    "    \n",
    "    w = np.column_stack((w1_subsampled, w2_subsampled, w3_subsampled))\n",
    "\n",
    "    # Computation of the z_i\n",
    "    # We compute the gradient for each w = [w1,w2,w3] generated in the Chain thanks to our gradient function\n",
    "    x = [gradient(_post, np.asarray(omega)) for omega in w]\n",
    "    # We store the gradients and we multiply by 0.5 since the control variates are\n",
    "    x1 = [elem[0] if isinstance(elem, np.ndarray) else elem[0] for elem in x]\n",
    "    x1 = [0.5*x for x in x1]\n",
    "    x2 = [elem[1] if isinstance(elem, np.ndarray) else elem[1] for elem in x]\n",
    "    x2 = [0.5*x for x in x2]\n",
    "    x3 = [elem[2] if isinstance(elem, np.ndarray) else elem[2] for elem in x]\n",
    "    x3 = [0.5*x for x in x3]\n",
    "    # We store these 3 control variates in an array \n",
    "    z = np.column_stack((x1, x2, x3))\n",
    "\n",
    "    # We store our data in arrays afetr burn in \n",
    "    Y = np.array(w)\n",
    "    Z = np.array(z)\n",
    "\n",
    "    # We create a linear regression object \n",
    "    regression = LinearRegression()\n",
    "\n",
    "    # We train the model \n",
    "    regression.fit(Z, Y)\n",
    "\n",
    "    # We store the optimal coefficients of the 3 regression \n",
    "    a = regression.coef_\n",
    "\n",
    "    # Imprimer les coefficients de régression\n",
    "    print(\"Coefficients de a de la régression de w sur les control variates: \", a)\n",
    "\n",
    "    # We store the optimal coefficients as lists\n",
    "    coeffs_w1 = a.tolist()\n",
    "\n",
    "    # We compute a transposed times Z and we add a -1 since we do in fact the regression of W on -Z. \n",
    "    aTz = np.dot(a,(-Z).T)\n",
    "\n",
    "    trans = aTz.T\n",
    "\n",
    "    trans_w1 = [elem[0] if isinstance(elem, np.ndarray) else elem[0] for elem in trans]\n",
    "    trans_w2 = [elem[1] if isinstance(elem, np.ndarray) else elem[1] for elem in trans]\n",
    "    trans_w3 = [elem[2] if isinstance(elem, np.ndarray) else elem[2] for elem in trans]\n",
    "\n",
    "    return w1_subsampled, trans_w1, w2_subsampled, trans_w2, w3_subsampled, trans_w3"
   ]
  },
  {
   "cell_type": "code",
   "execution_count": null,
   "metadata": {},
   "outputs": [],
   "source": [
    "# Initialization of the parameters and creation of a list of returns on simulated data\n",
    "initial_omega = [0.3,0.3,0.3]\n",
    "\n",
    "returns = simulate_garch(omega = [0.1, 0.2, 0.7], T = 1000)[0]\n",
    "\n",
    "iterations = 2000\n",
    "burn_in = 1000\n",
    "std_prior = 10\n",
    "std_proposal = 0.01"
   ]
  },
  {
   "cell_type": "code",
   "execution_count": null,
   "metadata": {},
   "outputs": [
    {
     "name": "stdout",
     "output_type": "stream",
     "text": [
      "Coefficients de a de la régression de w sur les control variates:  [[-0.00184612 -0.00120366  0.00309614]\n",
      " [-0.00100479 -0.0033311   0.00349026]\n",
      " [ 0.00283514  0.00363649 -0.00632371]]\n"
     ]
    }
   ],
   "source": [
    "w_tilde = w_tilde()"
   ]
  },
  {
   "cell_type": "code",
   "execution_count": null,
   "metadata": {},
   "outputs": [
    {
     "name": "stdout",
     "output_type": "stream",
     "text": [
      "Expected value of w1 = 0.12791405820039353\n",
      "Expected value of w1_tilde = 0.10891620825301286\n",
      "Variance of w1 = 0.001884779488105232\n",
      "Variance of w1_tilde = 0.0005178762685751082\n"
     ]
    }
   ],
   "source": [
    "# Results for w1\n",
    "def w1_results(w_tilde):\n",
    "    w1 = w_tilde[0]\n",
    "    transw1 = w_tilde[1]\n",
    "    w1_tilde = sum_list(w1, transw1)\n",
    "    return np.mean(w1), np.mean(w1_tilde), np.var(w1), np.var(w1_tilde), w1_tilde\n",
    "\n",
    "print(\"Expected value of w1 =\", w1_results(w_tilde)[0])\n",
    "print(\"Expected value of w1_tilde =\", w1_results(w_tilde)[1])\n",
    "print(\"Variance of w1 =\", w1_results(w_tilde)[2])\n",
    "print(\"Variance of w1_tilde =\", w1_results(w_tilde)[3]) "
   ]
  },
  {
   "cell_type": "code",
   "execution_count": null,
   "metadata": {},
   "outputs": [
    {
     "name": "stdout",
     "output_type": "stream",
     "text": [
      "Expected value of w2 = 0.23579018729489176\n",
      "Expected value of w2_tilde = 0.21505850487511036\n",
      "Variance of w2 = 0.0023295655763567857\n",
      "Variance of w2_tilde = 0.0003216894504733031\n"
     ]
    }
   ],
   "source": [
    "# Results for w2\n",
    "def w2_results(w):\n",
    "    w2 = w_tilde[2]\n",
    "    transw2 = w_tilde[3]\n",
    "    w2_tilde = sum_list(w2, transw2)\n",
    "    return np.mean(w2), np.mean(w2_tilde), np.var(w2), np.var(w2_tilde), w2_tilde\n",
    "\n",
    "print(\"Expected value of w2 =\", w2_results(w_tilde)[0])\n",
    "print(\"Expected value of w2_tilde =\", w2_results(w_tilde)[1])\n",
    "print(\"Variance of w2 =\", w2_results(w_tilde)[2])\n",
    "print(\"Variance of w2_tilde =\", w2_results(w_tilde)[3])"
   ]
  },
  {
   "cell_type": "code",
   "execution_count": null,
   "metadata": {},
   "outputs": [
    {
     "name": "stdout",
     "output_type": "stream",
     "text": [
      "Expected value of w3 = 0.6413887775952101\n",
      "Expected value of w3_tilde = 0.6776979906859422\n",
      "Variance of w1 = 0.005560746594432555\n",
      "Variance of w1_tilde = 0.0009954360651237835\n"
     ]
    }
   ],
   "source": [
    "# Results for \n",
    "def w3_results(w):\n",
    "    w3 = w_tilde[4]\n",
    "    transw3 = w_tilde[5]\n",
    "    w3_tilde = sum_list(w3, transw3)\n",
    "    return np.mean(w3), np.mean(w3_tilde), np.var(w3), np.var(w3_tilde), w3_tilde\n",
    "\n",
    "print(\"Expected value of w3 =\", w3_results(w_tilde)[0])\n",
    "print(\"Expected value of w3_tilde =\", w3_results(w_tilde)[1])\n",
    "print(\"Variance of w1 =\", w3_results(w_tilde)[2])\n",
    "print(\"Variance of w1_tilde =\", w3_results(w_tilde)[3]) "
   ]
  },
  {
   "cell_type": "code",
   "execution_count": null,
   "metadata": {},
   "outputs": [
    {
     "data": {
      "image/png": "[encoded data removed]",
      "text/plain": [
       "<Figure size 432x288 with 1 Axes>"
      ]
     },
     "metadata": {},
     "output_type": "display_data"
    },
    {
     "data": {
      "image/png": "[encoded data removed]",
      "text/plain": [
       "<Figure size 432x288 with 1 Axes>"
      ]
     },
     "metadata": {},
     "output_type": "display_data"
    },
    {
     "data": {
      "image/png": "[encoded data removed]",
      "text/plain": [
       "<Figure size 432x288 with 1 Axes>"
      ]
     },
     "metadata": {},
     "output_type": "display_data"
    }
   ],
   "source": [
    "boxplot_comparision(w_tilde[0], w1_results(w_tilde)[4], 'w1')\n",
    "boxplot_comparision(w_tilde[2], w2_results(w_tilde)[4], 'w2')\n",
    "boxplot_comparision(w_tilde[4], w3_results(w_tilde)[4], 'w3')"
   ]
  },
  {
   "cell_type": "markdown",
   "metadata": {},
   "source": [
    "**We can see that the subsampling technique is effective since we have a better estimator than for question 2 thanks to the subsampling which has allowed to make the linear regression approach more valid.**"
   ]
  }
 ],
 "metadata": {
  "kernelspec": {
   "display_name": "Python 3",
   "language": "python",
   "name": "python3"
  },
  "language_info": {
   "codemirror_mode": {
    "name": "ipython",
    "version": 3
   },
   "file_extension": ".py",
   "mimetype": "text/x-python",
   "name": "python",
   "nbconvert_exporter": "python",
   "pygments_lexer": "ipython3",
   "version": "3.9.6"
  }
 },
 "nbformat": 4,
 "nbformat_minor": 2
}
